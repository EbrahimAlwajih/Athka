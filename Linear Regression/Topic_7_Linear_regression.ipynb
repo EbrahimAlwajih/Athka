{
 "cells": [
  {
   "cell_type": "markdown",
   "metadata": {
    "slideshow": {
     "slide_type": "slide"
    }
   },
   "source": [
    "# Regression\n",
    "\n",
    "> 📌  A process for modeling the **relationship** between variables of interest. \n",
    "\n",
    "Example: If you know the relationship between education and income (the more someone is educated, the more money they make), we could predict someone's income based on their education. \n",
    "_Simply speaking, learning such a_ **relationship** _is regression._\n"
   ]
  },
  {
   "cell_type": "markdown",
   "metadata": {
    "slideshow": {
     "slide_type": "slide"
    }
   },
   "source": [
    "### What is the difference between correlation and regression?"
   ]
  },
  {
   "cell_type": "markdown",
   "metadata": {
    "slideshow": {
     "slide_type": "fragment"
    }
   },
   "source": [
    "**Question-A:** Consider the following data for 10 students who took exam last semester. Column-1 represents the student ID, Column-2 represents the attitude of the students before taking the exam, and Column-3 represents the score obtained in the exam.\n",
    "\n",
    "|  STU-ID   |     Attitude    |     Score    |\n",
    "|:---------:|:---------------:|:------------:|\n",
    "|      1    |        65       |      129     |\n",
    "|      2    |        67       |      126     |\n",
    "|      3    |        68       |      143     |\n",
    "|      4    |        70       |      156     |\n",
    "|      5    |        71       |      161     |\n",
    "|      6    |        72       |      158     |\n",
    "|      7    |        72       |      168     |\n",
    "|      8    |        73       |      166     |\n",
    "|      9    |        73       |      182     |\n",
    "|     10    |        75       |      201     |\n",
    "\n",
    "1. Calculate the correlation between *Attitude* and *Score* using python.\n",
    "2. If attitude decrease, then score will increase. True or False. Explain your answer based on Part-1.\n",
    "3. If attitude of a new student is 74 units, then can you estimated his score before the exam using correlation?"
   ]
  },
  {
   "cell_type": "code",
   "execution_count": 25,
   "metadata": {
    "slideshow": {
     "slide_type": "slide"
    }
   },
   "outputs": [
    {
     "data": {
      "text/html": [
       "<div>\n",
       "<style scoped>\n",
       "    .dataframe tbody tr th:only-of-type {\n",
       "        vertical-align: middle;\n",
       "    }\n",
       "\n",
       "    .dataframe tbody tr th {\n",
       "        vertical-align: top;\n",
       "    }\n",
       "\n",
       "    .dataframe thead th {\n",
       "        text-align: right;\n",
       "    }\n",
       "</style>\n",
       "<table border=\"1\" class=\"dataframe\">\n",
       "  <thead>\n",
       "    <tr style=\"text-align: right;\">\n",
       "      <th></th>\n",
       "      <th>Attitude</th>\n",
       "      <th>Score</th>\n",
       "    </tr>\n",
       "  </thead>\n",
       "  <tbody>\n",
       "    <tr>\n",
       "      <th>Attitude</th>\n",
       "      <td>1.00000</td>\n",
       "      <td>0.94179</td>\n",
       "    </tr>\n",
       "    <tr>\n",
       "      <th>Score</th>\n",
       "      <td>0.94179</td>\n",
       "      <td>1.00000</td>\n",
       "    </tr>\n",
       "  </tbody>\n",
       "</table>\n",
       "</div>"
      ],
      "text/plain": [
       "          Attitude    Score\n",
       "Attitude   1.00000  0.94179\n",
       "Score      0.94179  1.00000"
      ]
     },
     "metadata": {},
     "output_type": "display_data"
    },
    {
     "name": "stdout",
     "output_type": "stream",
     "text": [
      "The correlation between Attitude and Score is 0.9417903723646914\n"
     ]
    }
   ],
   "source": [
    "# 1. Calculate the correlation between *Attitude* and *Score* using python.\n",
    "\n",
    "import pandas as pd\n",
    "# import matplotlib.pyplot as plt\n",
    "# import numpy as np\n",
    "\n",
    "\n",
    "df = pd.read_csv('data/Regression-1.csv', delimiter =',')\n",
    "corr = df.drop(['STU-ID'], axis=1).corr()\n",
    "display(corr)\n",
    "print(f\"The correlation between Attitude and Score is {corr.loc['Attitude','Score']}\")\n"
   ]
  },
  {
   "cell_type": "markdown",
   "metadata": {
    "slideshow": {
     "slide_type": "slide"
    }
   },
   "source": [
    "2. If attitude decrease, then score will increase. True or False. Explain your answer based on Part-1.  \n",
    "False, since the direction of relationship is positive.\n",
    "\n",
    "3. If attitude of a new student is 74 units, then can you estimated his score before the exam using correlation?  \n",
    "No, the correlation shows the strength and direction of the relationship. However, it cannot depict the actual relation."
   ]
  },
  {
   "cell_type": "markdown",
   "metadata": {
    "slideshow": {
     "slide_type": "slide"
    }
   },
   "source": [
    "## Regression vs Correlation\n",
    "\n",
    "Correlation:\n",
    "> 1. Correlation may indicate whether two variables are related or not.\n",
    "> 2. However, correlation will not provide information of how one variable is related to another.\n",
    "\n",
    "Regression:\n",
    "> 1. Regression may identify how one or more variables are related to an output variable.\n",
    "> 2. Specifically, it will provide details of how input variables affects the output variable.\n",
    "> 3. Beyond estimating a relationship, regression is a way of **predicting** an output variable from one or more input variables."
   ]
  },
  {
   "cell_type": "markdown",
   "metadata": {
    "slideshow": {
     "slide_type": "slide"
    }
   },
   "source": [
    "# Linear Regression\n",
    "> 📌 The most common form of regression used in data analysis.  \n",
    "> 📌 It assumes the **relationship** of the input variables and the output variables is **linear** (can be expressed as a line or hyperplane)."
   ]
  },
  {
   "cell_type": "markdown",
   "metadata": {
    "slideshow": {
     "slide_type": "slide"
    }
   },
   "source": [
    "## Linear Regression Overview\n",
    "\n",
    "<img src=\"img/Reg_1.png\" width=610 height=610 />"
   ]
  },
  {
   "cell_type": "markdown",
   "metadata": {
    "slideshow": {
     "slide_type": "slide"
    }
   },
   "source": [
    "# Single Input Single Output (SISO) Linear regression\n",
    "> 📌 How one input variable is related to one output variable?  \n",
    "\n",
    "We will start with **Single Input Single Output (SISO)** linear regression.\n",
    "\n",
    "**Notations**:\n",
    "Let $x$ be the input variables, and let $y$ be the output variable. The linear regression model can be stated as:\n",
    "\n",
    "**Model**:\n",
    "$$\n",
    " y = \\beta_0 + \\beta_1 x,\n",
    "$$\n",
    "\n",
    "where $\\beta_1$ represents the slope of the $x$, and $\\beta_0$ is the intercept for the equation.\n",
    "\n",
    "**Goal**:\n",
    "Linear regression estimates the best values of $\\beta_0$ and $\\beta_1$. So, when a new or previously unobserved data point $x$ comes with unknown value of $y$, using the value of $x$, and estimated $\\beta_0$ and $\\beta_1$ values, one can find estimated value of $y$, say $\\hat{y}$. The goal of linear regression is to have $\\hat{y}$ as close as possible to $y$.\n"
   ]
  },
  {
   "cell_type": "markdown",
   "metadata": {
    "slideshow": {
     "slide_type": "slide"
    }
   },
   "source": [
    "## Solution Method for SISO Linear Regression\n",
    "\n",
    "From statistical analysis, it has been shown that the coefficients can be estimated as follows:\n",
    "\n",
    "## $ \\beta_1 = r \\frac{sd_y}{sd_x} $ and <br>\n",
    "## $ \\beta_0 = \\overline{y} - \\beta_1 \\overline{x} $\n",
    "\n",
    "where $r$ is the Pearson's correlation coefficient, $sd_x$ and $sd_y$ represent the standard deviation of $x$ and $y$ variables respectively, $\\overline{x}$ and $\\overline{y}$ represent the means of $x$ and $y$ variables respectively."
   ]
  },
  {
   "cell_type": "markdown",
   "metadata": {
    "slideshow": {
     "slide_type": "slide"
    }
   },
   "source": [
    "### Example: SISO Linear Regression\n",
    "**Question-B:** Consider the following data from __Question-A__:\n",
    "\n",
    "|  STU-ID   |     Attitude    |     Score    |\n",
    "|:---------:|:---------------:|:------------:|\n",
    "|      1    |        65       |      129     |\n",
    "|      2    |        67       |      126     |\n",
    "|      3    |        68       |      143     |\n",
    "|      4    |        70       |      156     |\n",
    "|      5    |        71       |      161     |\n",
    "|      6    |        72       |      158     |\n",
    "|      7    |        72       |      168     |\n",
    "|      8    |        73       |      166     |\n",
    "|      9    |        73       |      182     |\n",
    "|     10    |        75       |      201     |\n",
    "\n",
    "1. Visualize the relationship between *Attitude* and *Score* (plot *Attitude* on x-axis, and *Score* on y-axis). \n",
    "2. Is the relationship linear, comment.  \n",
    "3. Identify the linear relationship between *Attitude* and *Score* of the students using the formula. Then verify the result using python.\n",
    "4. If a new participant with positive attitude of 78 is taking the exam, then what is the estimated score of the participant.\n",
    "5. If new participants with positive attitude of 78, 74, 68 and 69 are taking the exam, then what are the estimated scores for the participants.\n",
    "6. The estimated score and predicted score of student with attitude of 68 are different. Is there some error in the approach?"
   ]
  },
  {
   "cell_type": "code",
   "execution_count": 26,
   "metadata": {
    "slideshow": {
     "slide_type": "slide"
    }
   },
   "outputs": [
    {
     "data": {
      "text/plain": [
       "<Figure size 640x480 with 0 Axes>"
      ]
     },
     "metadata": {},
     "output_type": "display_data"
    },
    {
     "data": {
      "image/png": "[encoded data removed]",
      "text/plain": [
       "<Figure size 500x500 with 1 Axes>"
      ]
     },
     "metadata": {},
     "output_type": "display_data"
    }
   ],
   "source": [
    "# 1. Visualize the relationship between Attitude and Score (plot Attitude on x-axis, and Score on y-axis).\n",
    "%matplotlib inline\n",
    "# %matplotlib notebook\n",
    "# %matplotlib qt\n",
    "\n",
    "import pandas as pd\n",
    "import matplotlib.pyplot as plt\n",
    "import seaborn as sns\n",
    "\n",
    "df = pd.read_csv('data/Regression-1.csv', delimiter =',')\n",
    "plt.figure()\n",
    "sns.relplot(x='Attitude', y='Score',\n",
    "            color = 'purple', marker = 'D',\n",
    "            kind='scatter',\n",
    "            data=df)\n",
    "plt.xlabel('Attitude')\n",
    "plt.ylabel('Score')\n",
    "plt.show()"
   ]
  },
  {
   "cell_type": "markdown",
   "metadata": {
    "slideshow": {
     "slide_type": "fragment"
    }
   },
   "source": [
    "2: Is the relationship linear, comment.  \n",
    "From the plot, it can be seen that the relationship could be linear.\n"
   ]
  },
  {
   "cell_type": "markdown",
   "metadata": {
    "slideshow": {
     "slide_type": "slide"
    }
   },
   "source": [
    "3. Identify the linear relationship between *Attitude* and *Score* of the students using the formula. Then verify the result using python.\n",
    "\n",
    "To identify the relationship, we need to identifying the betas\n",
    "\n",
    "Using the formula:  \n",
    "\n",
    "Pearson’s correlation coefficient r = 0.94. \n",
    "Mean of Attitude = 70.6, mean of Score = 159.  \n",
    "S.D. of Attitude = 2.94, S.D. of Score = 21.64. \n",
    "\n",
    "Thus,  \n",
    "$$\\beta_1=0.94 \\times \\frac{21.64}{2.94}=6.93$$  \n",
    "$$\\beta_0=159−(6.93 \\times  70.6)=−330.25$$  "
   ]
  },
  {
   "cell_type": "code",
   "execution_count": 27,
   "metadata": {
    "slideshow": {
     "slide_type": "slide"
    }
   },
   "outputs": [
    {
     "name": "stdout",
     "output_type": "stream",
     "text": [
      "Beta1, the slope is [6.93]; and Beta0, the intercept is -330.46\n"
     ]
    }
   ],
   "source": [
    "# Then verify the result using python.\n",
    "import numpy as np\n",
    "from sklearn.linear_model import LinearRegression\n",
    "\n",
    "# Create linear regression object\n",
    "reg = LinearRegression(fit_intercept=True)\n",
    "\n",
    "# Train the model using the training sets\n",
    "reg.fit(df[['Attitude']], df['Score'])  #single column\n",
    "\n",
    "# The betas are\n",
    "print(f'Beta1, the slope is {np.round(reg.coef_,2)}; and Beta0, the intercept is {np.round(reg.intercept_,2)}')\n"
   ]
  },
  {
   "cell_type": "code",
   "execution_count": 28,
   "metadata": {},
   "outputs": [
    {
     "name": "stdout",
     "output_type": "stream",
     "text": [
      "r =  0.9417903723646911\n",
      "Mean of X=  70.6\n",
      "Mean of Y =  159.0\n",
      "Std od X = 2.939387691339814\n",
      "Std of Y=  21.63792966066763\n",
      "Beta1, the slope is 6.93; and Beta0, the intercept is -330.46\n"
     ]
    }
   ],
   "source": [
    "## The following code computes betas using the formula and python, \n",
    "## but without using the skliear library\n",
    "\n",
    "import numpy as np\n",
    "\n",
    "x=df['Attitude'].values\n",
    "y=df['Score'].values\n",
    "\n",
    "r = np.corrcoef(x, y)[0,1]\n",
    "\n",
    "sdx = np.std(x)\n",
    "sdy = np.std(y)\n",
    "beta1 = r * (sdy / sdx)\n",
    "beta0 = np.mean(y) - beta1*np.mean(x)\n",
    "print(\"r = \" , r)\n",
    "print('Mean of X= ',np.mean(x))\n",
    "print('Mean of Y = ',np.mean(y))\n",
    "print( 'Std od X =',sdx)\n",
    "print(\"Std of Y= \" ,sdy)\n",
    "print(f'Beta1, the slope is {np.round(beta1,2)}; and Beta0, the intercept is {np.round(beta0,2)}')\n"
   ]
  },
  {
   "cell_type": "markdown",
   "metadata": {
    "slideshow": {
     "slide_type": "slide"
    }
   },
   "source": [
    "4. If a new participant with positive attitude of 78 is taking the exam, then what is the estimated score of the participant.  \n",
    "\n",
    "From Part-3 we know:  \n",
    "$$\\beta_1=6.93$$  \n",
    "$$\\beta_0=-330.46$$ \n",
    "Thus, the new participant's estimated score will be  \n",
    "$$\\hat{y} =-330.46 + (6.93 \\times 78) = 210.08$$"
   ]
  },
  {
   "cell_type": "code",
   "execution_count": 29,
   "metadata": {
    "slideshow": {
     "slide_type": "slide"
    }
   },
   "outputs": [
    {
     "name": "stdout",
     "output_type": "stream",
     "text": [
      "The estimated score for the student with attiude of 59 is [78.58].\n"
     ]
    },
    {
     "name": "stderr",
     "output_type": "stream",
     "text": [
      "c:\\Users\\ebrahim.alwajih\\Anaconda3\\lib\\site-packages\\sklearn\\base.py:450: UserWarning: X does not have valid feature names, but LinearRegression was fitted with feature names\n",
      "  warnings.warn(\n"
     ]
    }
   ],
   "source": [
    "x_new = 59\n",
    "y_new = reg.predict(np.array(x_new).reshape(1, -1)) #single value or single record \n",
    "print(f'The estimated score for the student with attiude of {x_new} is {np.round(y_new,2)}.')"
   ]
  },
  {
   "cell_type": "code",
   "execution_count": 30,
   "metadata": {
    "slideshow": {
     "slide_type": "slide"
    }
   },
   "outputs": [
    {
     "name": "stdout",
     "output_type": "stream",
     "text": [
      "The estimated scores for the students with attiudes of [78, 74, 68, 69] are [210.3, 182.57, 140.97, 147.91] respectively .\n"
     ]
    },
    {
     "name": "stderr",
     "output_type": "stream",
     "text": [
      "c:\\Users\\ebrahim.alwajih\\Anaconda3\\lib\\site-packages\\sklearn\\base.py:450: UserWarning: X does not have valid feature names, but LinearRegression was fitted with feature names\n",
      "  warnings.warn(\n"
     ]
    }
   ],
   "source": [
    "# 5. If new participants with positive attitude of 78,74,68 and 69 are taking the exam, \n",
    "# then what are the estimated scores for the participants.\n",
    "\n",
    "x_new = [78,74,68,69]\n",
    "y_new = reg.predict(np.array(x_new).reshape(-1, 1))  #single column\n",
    "print(f'The estimated scores for the students with attiudes of {x_new} are {np.round(y_new,2).tolist()} respectively .')"
   ]
  },
  {
   "cell_type": "markdown",
   "metadata": {
    "slideshow": {
     "slide_type": "slide"
    }
   },
   "source": [
    "6. The estimated score and predicted score of student with attitude of 68 are different. Is there some error in the approach?  \n",
    "From the plot, we can see that the relationship is not perfectly linear. Thus, the estimated values will not give the perfect results. There will be some error. The linear regression tries to minimize the mean squared error of the input data points. We will see all these details in the following slides."
   ]
  },
  {
   "cell_type": "markdown",
   "metadata": {
    "slideshow": {
     "slide_type": "slide"
    }
   },
   "source": [
    "### Example-2: SISO Linear Regression\n",
    "\n",
    "**Question-C** Let us take an example to understand the gradient descent approach. Consider the data given in Regression-2.csv file. Do the following:  \n",
    "1. Read and display the data.  \n",
    "2. Plot the data  \n",
    "3. Can we model the data using a linear relationship? If yes, then suggest the linear model, and highlight the unknowns.  "
   ]
  },
  {
   "cell_type": "code",
   "execution_count": 31,
   "metadata": {
    "slideshow": {
     "slide_type": "fragment"
    }
   },
   "outputs": [
    {
     "data": {
      "text/html": [
       "<div>\n",
       "<style scoped>\n",
       "    .dataframe tbody tr th:only-of-type {\n",
       "        vertical-align: middle;\n",
       "    }\n",
       "\n",
       "    .dataframe tbody tr th {\n",
       "        vertical-align: top;\n",
       "    }\n",
       "\n",
       "    .dataframe thead th {\n",
       "        text-align: right;\n",
       "    }\n",
       "</style>\n",
       "<table border=\"1\" class=\"dataframe\">\n",
       "  <thead>\n",
       "    <tr style=\"text-align: right;\">\n",
       "      <th></th>\n",
       "      <th>0</th>\n",
       "      <th>1</th>\n",
       "      <th>2</th>\n",
       "      <th>3</th>\n",
       "      <th>4</th>\n",
       "      <th>5</th>\n",
       "      <th>6</th>\n",
       "      <th>7</th>\n",
       "      <th>8</th>\n",
       "      <th>9</th>\n",
       "      <th>10</th>\n",
       "      <th>11</th>\n",
       "      <th>12</th>\n",
       "      <th>13</th>\n",
       "      <th>14</th>\n",
       "      <th>15</th>\n",
       "      <th>16</th>\n",
       "      <th>17</th>\n",
       "      <th>18</th>\n",
       "      <th>19</th>\n",
       "    </tr>\n",
       "  </thead>\n",
       "  <tbody>\n",
       "    <tr>\n",
       "      <th>x</th>\n",
       "      <td>1</td>\n",
       "      <td>2</td>\n",
       "      <td>3</td>\n",
       "      <td>4</td>\n",
       "      <td>5</td>\n",
       "      <td>6</td>\n",
       "      <td>7</td>\n",
       "      <td>8</td>\n",
       "      <td>9</td>\n",
       "      <td>10</td>\n",
       "      <td>11</td>\n",
       "      <td>12</td>\n",
       "      <td>13</td>\n",
       "      <td>14</td>\n",
       "      <td>15</td>\n",
       "      <td>16</td>\n",
       "      <td>17</td>\n",
       "      <td>18</td>\n",
       "      <td>19</td>\n",
       "      <td>20</td>\n",
       "    </tr>\n",
       "    <tr>\n",
       "      <th>y</th>\n",
       "      <td>3</td>\n",
       "      <td>4</td>\n",
       "      <td>8</td>\n",
       "      <td>4</td>\n",
       "      <td>6</td>\n",
       "      <td>9</td>\n",
       "      <td>8</td>\n",
       "      <td>12</td>\n",
       "      <td>15</td>\n",
       "      <td>26</td>\n",
       "      <td>35</td>\n",
       "      <td>40</td>\n",
       "      <td>45</td>\n",
       "      <td>54</td>\n",
       "      <td>49</td>\n",
       "      <td>59</td>\n",
       "      <td>60</td>\n",
       "      <td>62</td>\n",
       "      <td>63</td>\n",
       "      <td>68</td>\n",
       "    </tr>\n",
       "  </tbody>\n",
       "</table>\n",
       "</div>"
      ],
      "text/plain": [
       "   0   1   2   3   4   5   6   7   8   9   10  11  12  13  14  15  16  17  18  \\\n",
       "x   1   2   3   4   5   6   7   8   9  10  11  12  13  14  15  16  17  18  19   \n",
       "y   3   4   8   4   6   9   8  12  15  26  35  40  45  54  49  59  60  62  63   \n",
       "\n",
       "   19  \n",
       "x  20  \n",
       "y  68  "
      ]
     },
     "metadata": {},
     "output_type": "display_data"
    }
   ],
   "source": [
    "# 1. Read and display the data.  \n",
    "\n",
    "import pandas as pd\n",
    "df = pd.read_csv('data/Regression-2.csv', delimiter =',')\n",
    "#print(df)\n",
    "display(df.T)\n",
    "# df.describe().T"
   ]
  },
  {
   "cell_type": "code",
   "execution_count": 32,
   "metadata": {
    "slideshow": {
     "slide_type": "fragment"
    }
   },
   "outputs": [
    {
     "data": {
      "text/plain": [
       "<Figure size 640x480 with 0 Axes>"
      ]
     },
     "metadata": {},
     "output_type": "display_data"
    },
    {
     "data": {
      "image/png": "[encoded data removed]",
      "text/plain": [
       "<Figure size 500x500 with 1 Axes>"
      ]
     },
     "metadata": {},
     "output_type": "display_data"
    }
   ],
   "source": [
    "# 2. Plot the data\n",
    "%matplotlib inline\n",
    "import pandas as pd\n",
    "import matplotlib.pyplot as plt\n",
    "import seaborn as sns\n",
    "\n",
    "# df = pd.read_csv('data/Regression-2.csv', delimiter =',')\n",
    "plt.figure()\n",
    "sns.relplot(x='x', y='y', color = 'r', marker = 'o',kind='scatter',data=df) # kind is either \"line\" or \"scatter\"\n",
    "plt.xlabel('x')\n",
    "plt.ylabel('y')\n",
    "plt.show()"
   ]
  },
  {
   "cell_type": "markdown",
   "metadata": {
    "raw_mimetype": "text/latex",
    "slideshow": {
     "slide_type": "slide"
    }
   },
   "source": [
    "3. Can we model the data using a linear relationship? If yes, then suggest the linear model, and highlight the unknowns.  \n",
    "\n",
    "The data can be modeled using a linear relationship (more or less).  \n",
    "let us denote the data as $x_i$, $y_i$, where $i=1, \\ldots, n$, and $n$ is the total observations.   \n",
    "Let us assume, the equation of the line (or the linear relation) is:  \n",
    "$$ y= \\beta_1x + \\beta_0 $$\n",
    "where $\\beta_1$ is the line's slope and $\\beta_0$ is the line's y-intercept are the two unknowns.  "
   ]
  },
  {
   "cell_type": "markdown",
   "metadata": {
    "slideshow": {
     "slide_type": "slide"
    }
   },
   "source": [
    "#### How to find the value $\\beta_1$ and $\\beta_0$?"
   ]
  },
  {
   "cell_type": "markdown",
   "metadata": {
    "slideshow": {
     "slide_type": "slide"
    }
   },
   "source": [
    "## What are the best values for $\\beta_1$ and $\\beta_0$?"
   ]
  },
  {
   "cell_type": "code",
   "execution_count": 33,
   "metadata": {
    "slideshow": {
     "slide_type": "fragment"
    }
   },
   "outputs": [
    {
     "name": "stdout",
     "output_type": "stream",
     "text": [
      "The best values for b1 and b0 are 3.98 and -10.26 respectively.\n"
     ]
    }
   ],
   "source": [
    "from sklearn.linear_model import LinearRegression\n",
    "\n",
    "reg = LinearRegression(fit_intercept=True)\n",
    "reg.fit(df[['x']], df['y'])  #single column\n",
    "# reg.fit(df['x'].values.reshape(-1,1), df['y'])  #single column\n",
    "\n",
    "best_b1 =  reg.coef_[0]\n",
    "best_b0 = reg.intercept_\n",
    "print(f'The best values for b1 and b0 are {np.round(best_b1,2)} and {np.round(best_b0,2)} respectively.')"
   ]
  },
  {
   "cell_type": "markdown",
   "metadata": {
    "slideshow": {
     "slide_type": "fragment"
    }
   },
   "source": [
    "The values of $\\beta_1$ and $\\beta_0$ fall at the lowest point of the error function."
   ]
  },
  {
   "cell_type": "markdown",
   "metadata": {
    "slideshow": {
     "slide_type": "slide"
    }
   },
   "source": [
    "# Multiple Input Single Output (MISO) Linear Regression\n",
    "> 📌 How multiple input variables are related to one output variable?  "
   ]
  },
  {
   "cell_type": "markdown",
   "metadata": {
    "slideshow": {
     "slide_type": "fragment"
    }
   },
   "source": [
    "- So far we have seen one input variable's relationship with one output variable. \n",
    "- In many practical applications, we will be dealing with multiple input variables.\n",
    "- To incorporate multiple variables, consider the following notations:\n",
    " - Let the $n$ observations be represented by $(x^i,y_i)$, for $i=1,\\ldots,n$  \n",
    " where $x^i$ is a vector in $\\mathbb{R}^P$, and $P$ are the number of input variables.\n",
    " - Let $\\beta_0$, the intercept\n",
    " - Let $\\beta_j$ be the coefficients of variable $x^i_j$, for $j=1,\\ldots,P$, and for $i=1,\\ldots,n$ \n",
    " - For ease of notation, we introduce $x^i_0 = 1$ for $i=1,\\ldots,n$ "
   ]
  },
  {
   "cell_type": "markdown",
   "metadata": {
    "slideshow": {
     "slide_type": "slide"
    }
   },
   "source": [
    "Based on the notations, the linear relationship is defined as follows:\n",
    "$$ h(x^i) = \\sum_{j=0}^P \\beta_j x^i_j \\qquad \\forall i=1,\\ldots,n.$$\n",
    "Moreover, the _error function_ can be defined as:\n",
    "$$J(\\boldsymbol \\beta) = \\frac{1}{n} \\sum_{i=0}^n\\left( h(x^i)-y_i \\right)^2.$$"
   ]
  },
  {
   "cell_type": "markdown",
   "metadata": {
    "slideshow": {
     "slide_type": "slide"
    }
   },
   "source": [
    "### Example MISO Linear Regression\n",
    "**Question-D:** Consider the data given in the csv file titled \"Regression-3.csv\". \n",
    "1. Read and describe the data.\n",
    "2. Calculate the correlation among all the variables.\n",
    "3. Identify the top three correlated input variables to the output variable.\n",
    "4. Calculate the coefficient estimates using OLS closed form.\n",
    "5. Calculate the coefficient estimates using sci-kit learn LinearRegression module. "
   ]
  },
  {
   "cell_type": "code",
   "execution_count": 34,
   "metadata": {
    "scrolled": true,
    "slideshow": {
     "slide_type": "slide"
    }
   },
   "outputs": [
    {
     "data": {
      "text/html": [
       "<div>\n",
       "<style scoped>\n",
       "    .dataframe tbody tr th:only-of-type {\n",
       "        vertical-align: middle;\n",
       "    }\n",
       "\n",
       "    .dataframe tbody tr th {\n",
       "        vertical-align: top;\n",
       "    }\n",
       "\n",
       "    .dataframe thead th {\n",
       "        text-align: right;\n",
       "    }\n",
       "</style>\n",
       "<table border=\"1\" class=\"dataframe\">\n",
       "  <thead>\n",
       "    <tr style=\"text-align: right;\">\n",
       "      <th></th>\n",
       "      <th>count</th>\n",
       "      <th>mean</th>\n",
       "      <th>std</th>\n",
       "      <th>min</th>\n",
       "      <th>25%</th>\n",
       "      <th>50%</th>\n",
       "      <th>75%</th>\n",
       "      <th>max</th>\n",
       "    </tr>\n",
       "  </thead>\n",
       "  <tbody>\n",
       "    <tr>\n",
       "      <th>x1</th>\n",
       "      <td>97.0</td>\n",
       "      <td>1.030930e-11</td>\n",
       "      <td>1.005195</td>\n",
       "      <td>-2.300218</td>\n",
       "      <td>-0.713997</td>\n",
       "      <td>0.082650</td>\n",
       "      <td>0.662694</td>\n",
       "      <td>2.107397</td>\n",
       "    </tr>\n",
       "    <tr>\n",
       "      <th>x2</th>\n",
       "      <td>97.0</td>\n",
       "      <td>2.061865e-11</td>\n",
       "      <td>1.005195</td>\n",
       "      <td>-2.942386</td>\n",
       "      <td>-0.593769</td>\n",
       "      <td>-0.013927</td>\n",
       "      <td>0.580608</td>\n",
       "      <td>2.701661</td>\n",
       "    </tr>\n",
       "    <tr>\n",
       "      <th>x3</th>\n",
       "      <td>97.0</td>\n",
       "      <td>-2.061859e-11</td>\n",
       "      <td>1.005195</td>\n",
       "      <td>-3.087227</td>\n",
       "      <td>-0.521961</td>\n",
       "      <td>0.153109</td>\n",
       "      <td>0.558151</td>\n",
       "      <td>2.043304</td>\n",
       "    </tr>\n",
       "    <tr>\n",
       "      <th>x4</th>\n",
       "      <td>97.0</td>\n",
       "      <td>-2.061855e-10</td>\n",
       "      <td>1.005195</td>\n",
       "      <td>-1.030029</td>\n",
       "      <td>-1.030029</td>\n",
       "      <td>0.138397</td>\n",
       "      <td>1.010033</td>\n",
       "      <td>1.542252</td>\n",
       "    </tr>\n",
       "    <tr>\n",
       "      <th>x5</th>\n",
       "      <td>97.0</td>\n",
       "      <td>-6.185566e-11</td>\n",
       "      <td>1.005195</td>\n",
       "      <td>-0.525657</td>\n",
       "      <td>-0.525657</td>\n",
       "      <td>-0.525657</td>\n",
       "      <td>-0.525657</td>\n",
       "      <td>1.902379</td>\n",
       "    </tr>\n",
       "    <tr>\n",
       "      <th>x6</th>\n",
       "      <td>97.0</td>\n",
       "      <td>-1.030927e-10</td>\n",
       "      <td>1.005195</td>\n",
       "      <td>-0.867655</td>\n",
       "      <td>-0.867655</td>\n",
       "      <td>-0.445098</td>\n",
       "      <td>0.976274</td>\n",
       "      <td>2.216735</td>\n",
       "    </tr>\n",
       "    <tr>\n",
       "      <th>x7</th>\n",
       "      <td>97.0</td>\n",
       "      <td>5.154621e-11</td>\n",
       "      <td>1.005195</td>\n",
       "      <td>-1.047571</td>\n",
       "      <td>-1.047571</td>\n",
       "      <td>0.344407</td>\n",
       "      <td>0.344407</td>\n",
       "      <td>3.128363</td>\n",
       "    </tr>\n",
       "    <tr>\n",
       "      <th>x8</th>\n",
       "      <td>97.0</td>\n",
       "      <td>-1.030929e-10</td>\n",
       "      <td>1.005195</td>\n",
       "      <td>-0.868957</td>\n",
       "      <td>-0.868957</td>\n",
       "      <td>-0.334356</td>\n",
       "      <td>0.556647</td>\n",
       "      <td>2.695054</td>\n",
       "    </tr>\n",
       "    <tr>\n",
       "      <th>y</th>\n",
       "      <td>97.0</td>\n",
       "      <td>-3.092764e-11</td>\n",
       "      <td>1.005195</td>\n",
       "      <td>-2.533318</td>\n",
       "      <td>-0.650257</td>\n",
       "      <td>0.098514</td>\n",
       "      <td>0.503299</td>\n",
       "      <td>2.703452</td>\n",
       "    </tr>\n",
       "  </tbody>\n",
       "</table>\n",
       "</div>"
      ],
      "text/plain": [
       "    count          mean       std       min       25%       50%       75%  \\\n",
       "x1   97.0  1.030930e-11  1.005195 -2.300218 -0.713997  0.082650  0.662694   \n",
       "x2   97.0  2.061865e-11  1.005195 -2.942386 -0.593769 -0.013927  0.580608   \n",
       "x3   97.0 -2.061859e-11  1.005195 -3.087227 -0.521961  0.153109  0.558151   \n",
       "x4   97.0 -2.061855e-10  1.005195 -1.030029 -1.030029  0.138397  1.010033   \n",
       "x5   97.0 -6.185566e-11  1.005195 -0.525657 -0.525657 -0.525657 -0.525657   \n",
       "x6   97.0 -1.030927e-10  1.005195 -0.867655 -0.867655 -0.445098  0.976274   \n",
       "x7   97.0  5.154621e-11  1.005195 -1.047571 -1.047571  0.344407  0.344407   \n",
       "x8   97.0 -1.030929e-10  1.005195 -0.868957 -0.868957 -0.334356  0.556647   \n",
       "y    97.0 -3.092764e-11  1.005195 -2.533318 -0.650257  0.098514  0.503299   \n",
       "\n",
       "         max  \n",
       "x1  2.107397  \n",
       "x2  2.701661  \n",
       "x3  2.043304  \n",
       "x4  1.542252  \n",
       "x5  1.902379  \n",
       "x6  2.216735  \n",
       "x7  3.128363  \n",
       "x8  2.695054  \n",
       "y   2.703452  "
      ]
     },
     "metadata": {},
     "output_type": "display_data"
    }
   ],
   "source": [
    "# 1. Read and describe the data.\n",
    "import numpy as np\n",
    "import pandas as pd\n",
    "\n",
    "df = pd.read_csv('data/Regression-3.csv', delimiter =',')\n",
    "#display(df.head())\n",
    "display(df.describe().T)"
   ]
  },
  {
   "cell_type": "code",
   "execution_count": 35,
   "metadata": {
    "scrolled": true,
    "slideshow": {
     "slide_type": "slide"
    }
   },
   "outputs": [
    {
     "name": "stderr",
     "output_type": "stream",
     "text": [
      "C:\\Users\\ebrahim.alwajih\\AppData\\Local\\Temp\\ipykernel_21348\\4241487127.py:4: FutureWarning: this method is deprecated in favour of `Styler.format(precision=..)`\n",
      "  corr.style.background_gradient(cmap='coolwarm').set_precision(4)  # see pandas.DataFrame.style\n"
     ]
    },
    {
     "data": {
      "text/html": [
       "<style type=\"text/css\">\n",
       "#T_ca500_row0_col0, #T_ca500_row1_col1, #T_ca500_row2_col2, #T_ca500_row3_col3, #T_ca500_row4_col4, #T_ca500_row5_col5, #T_ca500_row6_col6, #T_ca500_row7_col7, #T_ca500_row8_col8 {\n",
       "  background-color: #b40426;\n",
       "  color: #f1f1f1;\n",
       "}\n",
       "#T_ca500_row0_col1 {\n",
       "  background-color: #88abfd;\n",
       "  color: #000000;\n",
       "}\n",
       "#T_ca500_row0_col2 {\n",
       "  background-color: #6180e9;\n",
       "  color: #f1f1f1;\n",
       "}\n",
       "#T_ca500_row0_col3, #T_ca500_row4_col1 {\n",
       "  background-color: #5a78e4;\n",
       "  color: #f1f1f1;\n",
       "}\n",
       "#T_ca500_row0_col4 {\n",
       "  background-color: #eed0c0;\n",
       "  color: #000000;\n",
       "}\n",
       "#T_ca500_row0_col5 {\n",
       "  background-color: #f7b497;\n",
       "  color: #000000;\n",
       "}\n",
       "#T_ca500_row0_col6 {\n",
       "  background-color: #bfd3f6;\n",
       "  color: #000000;\n",
       "}\n",
       "#T_ca500_row0_col7 {\n",
       "  background-color: #bbd1f8;\n",
       "  color: #000000;\n",
       "}\n",
       "#T_ca500_row0_col8 {\n",
       "  background-color: #f7b396;\n",
       "  color: #000000;\n",
       "}\n",
       "#T_ca500_row1_col0, #T_ca500_row1_col2 {\n",
       "  background-color: #90b2fe;\n",
       "  color: #000000;\n",
       "}\n",
       "#T_ca500_row1_col3, #T_ca500_row5_col6 {\n",
       "  background-color: #d9dce1;\n",
       "  color: #000000;\n",
       "}\n",
       "#T_ca500_row1_col4 {\n",
       "  background-color: #82a6fb;\n",
       "  color: #f1f1f1;\n",
       "}\n",
       "#T_ca500_row1_col5, #T_ca500_row6_col2 {\n",
       "  background-color: #7093f3;\n",
       "  color: #f1f1f1;\n",
       "}\n",
       "#T_ca500_row1_col6, #T_ca500_row2_col8, #T_ca500_row3_col0, #T_ca500_row3_col4, #T_ca500_row3_col5, #T_ca500_row3_col7, #T_ca500_row4_col2, #T_ca500_row4_col3, #T_ca500_row6_col1 {\n",
       "  background-color: #3b4cc0;\n",
       "  color: #f1f1f1;\n",
       "}\n",
       "#T_ca500_row1_col7 {\n",
       "  background-color: #445acc;\n",
       "  color: #f1f1f1;\n",
       "}\n",
       "#T_ca500_row1_col8 {\n",
       "  background-color: #a5c3fe;\n",
       "  color: #000000;\n",
       "}\n",
       "#T_ca500_row2_col0 {\n",
       "  background-color: #7da0f9;\n",
       "  color: #f1f1f1;\n",
       "}\n",
       "#T_ca500_row2_col1 {\n",
       "  background-color: #a2c1ff;\n",
       "  color: #000000;\n",
       "}\n",
       "#T_ca500_row2_col3, #T_ca500_row8_col1 {\n",
       "  background-color: #c0d4f5;\n",
       "  color: #000000;\n",
       "}\n",
       "#T_ca500_row2_col4 {\n",
       "  background-color: #7699f6;\n",
       "  color: #f1f1f1;\n",
       "}\n",
       "#T_ca500_row2_col5 {\n",
       "  background-color: #6485ec;\n",
       "  color: #f1f1f1;\n",
       "}\n",
       "#T_ca500_row2_col6 {\n",
       "  background-color: #84a7fc;\n",
       "  color: #f1f1f1;\n",
       "}\n",
       "#T_ca500_row2_col7 {\n",
       "  background-color: #80a3fa;\n",
       "  color: #f1f1f1;\n",
       "}\n",
       "#T_ca500_row3_col1 {\n",
       "  background-color: #c3d5f4;\n",
       "  color: #000000;\n",
       "}\n",
       "#T_ca500_row3_col2 {\n",
       "  background-color: #92b4fe;\n",
       "  color: #000000;\n",
       "}\n",
       "#T_ca500_row3_col6 {\n",
       "  background-color: #4055c8;\n",
       "  color: #f1f1f1;\n",
       "}\n",
       "#T_ca500_row3_col8 {\n",
       "  background-color: #3e51c5;\n",
       "  color: #f1f1f1;\n",
       "}\n",
       "#T_ca500_row4_col0 {\n",
       "  background-color: #e3d9d3;\n",
       "  color: #000000;\n",
       "}\n",
       "#T_ca500_row4_col5 {\n",
       "  background-color: #f7b599;\n",
       "  color: #000000;\n",
       "}\n",
       "#T_ca500_row4_col6 {\n",
       "  background-color: #97b8ff;\n",
       "  color: #000000;\n",
       "}\n",
       "#T_ca500_row4_col7 {\n",
       "  background-color: #c4d5f3;\n",
       "  color: #000000;\n",
       "}\n",
       "#T_ca500_row4_col8 {\n",
       "  background-color: #d7dce3;\n",
       "  color: #000000;\n",
       "}\n",
       "#T_ca500_row5_col0 {\n",
       "  background-color: #f7b89c;\n",
       "  color: #000000;\n",
       "}\n",
       "#T_ca500_row5_col1 {\n",
       "  background-color: #5e7de7;\n",
       "  color: #f1f1f1;\n",
       "}\n",
       "#T_ca500_row5_col2 {\n",
       "  background-color: #3d50c3;\n",
       "  color: #f1f1f1;\n",
       "}\n",
       "#T_ca500_row5_col3 {\n",
       "  background-color: #506bda;\n",
       "  color: #f1f1f1;\n",
       "}\n",
       "#T_ca500_row5_col4 {\n",
       "  background-color: #f7ad90;\n",
       "  color: #000000;\n",
       "}\n",
       "#T_ca500_row5_col7, #T_ca500_row8_col4 {\n",
       "  background-color: #f2cbb7;\n",
       "  color: #000000;\n",
       "}\n",
       "#T_ca500_row5_col8 {\n",
       "  background-color: #d1dae9;\n",
       "  color: #000000;\n",
       "}\n",
       "#T_ca500_row6_col0, #T_ca500_row7_col0 {\n",
       "  background-color: #c5d6f2;\n",
       "  color: #000000;\n",
       "}\n",
       "#T_ca500_row6_col3, #T_ca500_row7_col3 {\n",
       "  background-color: #6a8bef;\n",
       "  color: #f1f1f1;\n",
       "}\n",
       "#T_ca500_row6_col4, #T_ca500_row8_col7 {\n",
       "  background-color: #b7cff9;\n",
       "  color: #000000;\n",
       "}\n",
       "#T_ca500_row6_col5 {\n",
       "  background-color: #e1dad6;\n",
       "  color: #000000;\n",
       "}\n",
       "#T_ca500_row6_col7 {\n",
       "  background-color: #f5a081;\n",
       "  color: #000000;\n",
       "}\n",
       "#T_ca500_row6_col8 {\n",
       "  background-color: #89acfd;\n",
       "  color: #000000;\n",
       "}\n",
       "#T_ca500_row7_col1 {\n",
       "  background-color: #4a63d3;\n",
       "  color: #f1f1f1;\n",
       "}\n",
       "#T_ca500_row7_col2 {\n",
       "  background-color: #7396f5;\n",
       "  color: #f1f1f1;\n",
       "}\n",
       "#T_ca500_row7_col4 {\n",
       "  background-color: #dddcdc;\n",
       "  color: #000000;\n",
       "}\n",
       "#T_ca500_row7_col5 {\n",
       "  background-color: #f5c1a9;\n",
       "  color: #000000;\n",
       "}\n",
       "#T_ca500_row7_col6 {\n",
       "  background-color: #f59f80;\n",
       "  color: #000000;\n",
       "}\n",
       "#T_ca500_row7_col8 {\n",
       "  background-color: #9fbfff;\n",
       "  color: #000000;\n",
       "}\n",
       "#T_ca500_row8_col0 {\n",
       "  background-color: #f6a283;\n",
       "  color: #000000;\n",
       "}\n",
       "#T_ca500_row8_col2 {\n",
       "  background-color: #4c66d6;\n",
       "  color: #f1f1f1;\n",
       "}\n",
       "#T_ca500_row8_col3 {\n",
       "  background-color: #8badfd;\n",
       "  color: #000000;\n",
       "}\n",
       "#T_ca500_row8_col5 {\n",
       "  background-color: #ead5c9;\n",
       "  color: #000000;\n",
       "}\n",
       "#T_ca500_row8_col6 {\n",
       "  background-color: #a9c6fd;\n",
       "  color: #000000;\n",
       "}\n",
       "</style>\n",
       "<table id=\"T_ca500\">\n",
       "  <thead>\n",
       "    <tr>\n",
       "      <th class=\"blank level0\" >&nbsp;</th>\n",
       "      <th id=\"T_ca500_level0_col0\" class=\"col_heading level0 col0\" >x1</th>\n",
       "      <th id=\"T_ca500_level0_col1\" class=\"col_heading level0 col1\" >x2</th>\n",
       "      <th id=\"T_ca500_level0_col2\" class=\"col_heading level0 col2\" >x3</th>\n",
       "      <th id=\"T_ca500_level0_col3\" class=\"col_heading level0 col3\" >x4</th>\n",
       "      <th id=\"T_ca500_level0_col4\" class=\"col_heading level0 col4\" >x5</th>\n",
       "      <th id=\"T_ca500_level0_col5\" class=\"col_heading level0 col5\" >x6</th>\n",
       "      <th id=\"T_ca500_level0_col6\" class=\"col_heading level0 col6\" >x7</th>\n",
       "      <th id=\"T_ca500_level0_col7\" class=\"col_heading level0 col7\" >x8</th>\n",
       "      <th id=\"T_ca500_level0_col8\" class=\"col_heading level0 col8\" >y</th>\n",
       "    </tr>\n",
       "  </thead>\n",
       "  <tbody>\n",
       "    <tr>\n",
       "      <th id=\"T_ca500_level0_row0\" class=\"row_heading level0 row0\" >x1</th>\n",
       "      <td id=\"T_ca500_row0_col0\" class=\"data row0 col0\" >1.0000</td>\n",
       "      <td id=\"T_ca500_row0_col1\" class=\"data row0 col1\" >0.2805</td>\n",
       "      <td id=\"T_ca500_row0_col2\" class=\"data row0 col2\" >0.2250</td>\n",
       "      <td id=\"T_ca500_row0_col3\" class=\"data row0 col3\" >0.0273</td>\n",
       "      <td id=\"T_ca500_row0_col4\" class=\"data row0 col4\" >0.5388</td>\n",
       "      <td id=\"T_ca500_row0_col5\" class=\"data row0 col5\" >0.6753</td>\n",
       "      <td id=\"T_ca500_row0_col6\" class=\"data row0 col6\" >0.4324</td>\n",
       "      <td id=\"T_ca500_row0_col7\" class=\"data row0 col7\" >0.4337</td>\n",
       "      <td id=\"T_ca500_row0_col8\" class=\"data row0 col8\" >0.7345</td>\n",
       "    </tr>\n",
       "    <tr>\n",
       "      <th id=\"T_ca500_level0_row1\" class=\"row_heading level0 row1\" >x2</th>\n",
       "      <td id=\"T_ca500_row1_col0\" class=\"data row1 col0\" >0.2805</td>\n",
       "      <td id=\"T_ca500_row1_col1\" class=\"data row1 col1\" >1.0000</td>\n",
       "      <td id=\"T_ca500_row1_col2\" class=\"data row1 col2\" >0.3480</td>\n",
       "      <td id=\"T_ca500_row1_col3\" class=\"data row1 col3\" >0.4423</td>\n",
       "      <td id=\"T_ca500_row1_col4\" class=\"data row1 col4\" >0.1554</td>\n",
       "      <td id=\"T_ca500_row1_col5\" class=\"data row1 col5\" >0.1645</td>\n",
       "      <td id=\"T_ca500_row1_col6\" class=\"data row1 col6\" >0.0569</td>\n",
       "      <td id=\"T_ca500_row1_col7\" class=\"data row1 col7\" >0.1074</td>\n",
       "      <td id=\"T_ca500_row1_col8\" class=\"data row1 col8\" >0.4333</td>\n",
       "    </tr>\n",
       "    <tr>\n",
       "      <th id=\"T_ca500_level0_row2\" class=\"row_heading level0 row2\" >x3</th>\n",
       "      <td id=\"T_ca500_row2_col0\" class=\"data row2 col0\" >0.2250</td>\n",
       "      <td id=\"T_ca500_row2_col1\" class=\"data row2 col1\" >0.3480</td>\n",
       "      <td id=\"T_ca500_row2_col2\" class=\"data row2 col2\" >1.0000</td>\n",
       "      <td id=\"T_ca500_row2_col3\" class=\"data row2 col3\" >0.3502</td>\n",
       "      <td id=\"T_ca500_row2_col4\" class=\"data row2 col4\" >0.1177</td>\n",
       "      <td id=\"T_ca500_row2_col5\" class=\"data row2 col5\" >0.1277</td>\n",
       "      <td id=\"T_ca500_row2_col6\" class=\"data row2 col6\" >0.2689</td>\n",
       "      <td id=\"T_ca500_row2_col7\" class=\"data row2 col7\" >0.2761</td>\n",
       "      <td id=\"T_ca500_row2_col8\" class=\"data row2 col8\" >0.1696</td>\n",
       "    </tr>\n",
       "    <tr>\n",
       "      <th id=\"T_ca500_level0_row3\" class=\"row_heading level0 row3\" >x4</th>\n",
       "      <td id=\"T_ca500_row3_col0\" class=\"data row3 col0\" >0.0273</td>\n",
       "      <td id=\"T_ca500_row3_col1\" class=\"data row3 col1\" >0.4423</td>\n",
       "      <td id=\"T_ca500_row3_col2\" class=\"data row3 col2\" >0.3502</td>\n",
       "      <td id=\"T_ca500_row3_col3\" class=\"data row3 col3\" >1.0000</td>\n",
       "      <td id=\"T_ca500_row3_col4\" class=\"data row3 col4\" >-0.0858</td>\n",
       "      <td id=\"T_ca500_row3_col5\" class=\"data row3 col5\" >-0.0070</td>\n",
       "      <td id=\"T_ca500_row3_col6\" class=\"data row3 col6\" >0.0778</td>\n",
       "      <td id=\"T_ca500_row3_col7\" class=\"data row3 col7\" >0.0785</td>\n",
       "      <td id=\"T_ca500_row3_col8\" class=\"data row3 col8\" >0.1798</td>\n",
       "    </tr>\n",
       "    <tr>\n",
       "      <th id=\"T_ca500_level0_row4\" class=\"row_heading level0 row4\" >x5</th>\n",
       "      <td id=\"T_ca500_row4_col0\" class=\"data row4 col0\" >0.5388</td>\n",
       "      <td id=\"T_ca500_row4_col1\" class=\"data row4 col1\" >0.1554</td>\n",
       "      <td id=\"T_ca500_row4_col2\" class=\"data row4 col2\" >0.1177</td>\n",
       "      <td id=\"T_ca500_row4_col3\" class=\"data row4 col3\" >-0.0858</td>\n",
       "      <td id=\"T_ca500_row4_col4\" class=\"data row4 col4\" >1.0000</td>\n",
       "      <td id=\"T_ca500_row4_col5\" class=\"data row4 col5\" >0.6731</td>\n",
       "      <td id=\"T_ca500_row4_col6\" class=\"data row4 col6\" >0.3204</td>\n",
       "      <td id=\"T_ca500_row4_col7\" class=\"data row4 col7\" >0.4576</td>\n",
       "      <td id=\"T_ca500_row4_col8\" class=\"data row4 col8\" >0.5662</td>\n",
       "    </tr>\n",
       "    <tr>\n",
       "      <th id=\"T_ca500_level0_row5\" class=\"row_heading level0 row5\" >x6</th>\n",
       "      <td id=\"T_ca500_row5_col0\" class=\"data row5 col0\" >0.6753</td>\n",
       "      <td id=\"T_ca500_row5_col1\" class=\"data row5 col1\" >0.1645</td>\n",
       "      <td id=\"T_ca500_row5_col2\" class=\"data row5 col2\" >0.1277</td>\n",
       "      <td id=\"T_ca500_row5_col3\" class=\"data row5 col3\" >-0.0070</td>\n",
       "      <td id=\"T_ca500_row5_col4\" class=\"data row5 col4\" >0.6731</td>\n",
       "      <td id=\"T_ca500_row5_col5\" class=\"data row5 col5\" >1.0000</td>\n",
       "      <td id=\"T_ca500_row5_col6\" class=\"data row5 col6\" >0.5148</td>\n",
       "      <td id=\"T_ca500_row5_col7\" class=\"data row5 col7\" >0.6315</td>\n",
       "      <td id=\"T_ca500_row5_col8\" class=\"data row5 col8\" >0.5488</td>\n",
       "    </tr>\n",
       "    <tr>\n",
       "      <th id=\"T_ca500_level0_row6\" class=\"row_heading level0 row6\" >x7</th>\n",
       "      <td id=\"T_ca500_row6_col0\" class=\"data row6 col0\" >0.4324</td>\n",
       "      <td id=\"T_ca500_row6_col1\" class=\"data row6 col1\" >0.0569</td>\n",
       "      <td id=\"T_ca500_row6_col2\" class=\"data row6 col2\" >0.2689</td>\n",
       "      <td id=\"T_ca500_row6_col3\" class=\"data row6 col3\" >0.0778</td>\n",
       "      <td id=\"T_ca500_row6_col4\" class=\"data row6 col4\" >0.3204</td>\n",
       "      <td id=\"T_ca500_row6_col5\" class=\"data row6 col5\" >0.5148</td>\n",
       "      <td id=\"T_ca500_row6_col6\" class=\"data row6 col6\" >1.0000</td>\n",
       "      <td id=\"T_ca500_row6_col7\" class=\"data row6 col7\" >0.7519</td>\n",
       "      <td id=\"T_ca500_row6_col8\" class=\"data row6 col8\" >0.3690</td>\n",
       "    </tr>\n",
       "    <tr>\n",
       "      <th id=\"T_ca500_level0_row7\" class=\"row_heading level0 row7\" >x8</th>\n",
       "      <td id=\"T_ca500_row7_col0\" class=\"data row7 col0\" >0.4337</td>\n",
       "      <td id=\"T_ca500_row7_col1\" class=\"data row7 col1\" >0.1074</td>\n",
       "      <td id=\"T_ca500_row7_col2\" class=\"data row7 col2\" >0.2761</td>\n",
       "      <td id=\"T_ca500_row7_col3\" class=\"data row7 col3\" >0.0785</td>\n",
       "      <td id=\"T_ca500_row7_col4\" class=\"data row7 col4\" >0.4576</td>\n",
       "      <td id=\"T_ca500_row7_col5\" class=\"data row7 col5\" >0.6315</td>\n",
       "      <td id=\"T_ca500_row7_col6\" class=\"data row7 col6\" >0.7519</td>\n",
       "      <td id=\"T_ca500_row7_col7\" class=\"data row7 col7\" >1.0000</td>\n",
       "      <td id=\"T_ca500_row7_col8\" class=\"data row7 col8\" >0.4223</td>\n",
       "    </tr>\n",
       "    <tr>\n",
       "      <th id=\"T_ca500_level0_row8\" class=\"row_heading level0 row8\" >y</th>\n",
       "      <td id=\"T_ca500_row8_col0\" class=\"data row8 col0\" >0.7345</td>\n",
       "      <td id=\"T_ca500_row8_col1\" class=\"data row8 col1\" >0.4333</td>\n",
       "      <td id=\"T_ca500_row8_col2\" class=\"data row8 col2\" >0.1696</td>\n",
       "      <td id=\"T_ca500_row8_col3\" class=\"data row8 col3\" >0.1798</td>\n",
       "      <td id=\"T_ca500_row8_col4\" class=\"data row8 col4\" >0.5662</td>\n",
       "      <td id=\"T_ca500_row8_col5\" class=\"data row8 col5\" >0.5488</td>\n",
       "      <td id=\"T_ca500_row8_col6\" class=\"data row8 col6\" >0.3690</td>\n",
       "      <td id=\"T_ca500_row8_col7\" class=\"data row8 col7\" >0.4223</td>\n",
       "      <td id=\"T_ca500_row8_col8\" class=\"data row8 col8\" >1.0000</td>\n",
       "    </tr>\n",
       "  </tbody>\n",
       "</table>\n"
      ],
      "text/plain": [
       "<pandas.io.formats.style.Styler at 0x15b461a40d0>"
      ]
     },
     "execution_count": 35,
     "metadata": {},
     "output_type": "execute_result"
    }
   ],
   "source": [
    "# 2: Calculate the correlation among all the variables.\n",
    "corr = df.corr()\n",
    "\n",
    "corr.style.background_gradient(cmap='coolwarm').set_precision(4)  # see pandas.DataFrame.style\n",
    "\n"
   ]
  },
  {
   "cell_type": "code",
   "execution_count": 36,
   "metadata": {
    "slideshow": {
     "slide_type": "slide"
    }
   },
   "outputs": [
    {
     "name": "stdout",
     "output_type": "stream",
     "text": [
      "The closed form estimates are: [-0.0, 0.58, 0.23, -0.14, 0.12, 0.27, -0.13, 0.03, 0.11]\n"
     ]
    }
   ],
   "source": [
    "#4: Calculate the coefficient estimates using OLS closed form.\n",
    "# import numpy as np\n",
    "\n",
    "Xo = df.iloc[:,0:-1].values\n",
    "y = df.iloc[:,-1].values\n",
    "X = np.c_[np.ones(len(y)), Xo]\n",
    "#print(Xo)\n",
    "#print(y)\n",
    "#print(X)\n",
    "\n",
    "## or using the labels\n",
    "# Xo = df.loc[:,'x1':'x8'].values\n",
    "# y = df['y'].values\n",
    "# X = np.hstack([np.ones(len(y)).reshape(-1,1), Xo])\n",
    "\n",
    "best_beta = np.linalg.inv(X.T @ X) @ X.T @ y\n",
    "\n",
    "print('The closed form estimates are:', np.round(best_beta,2).tolist()) "
   ]
  },
  {
   "cell_type": "code",
   "execution_count": 37,
   "metadata": {
    "slideshow": {
     "slide_type": "slide"
    }
   },
   "outputs": [
    {
     "name": "stdout",
     "output_type": "stream",
     "text": [
      "The best values for the estimates are : -0.0 [0.58, 0.23, -0.14, 0.12, 0.27, -0.13, 0.03, 0.11]\n"
     ]
    }
   ],
   "source": [
    "# 5: Calculate the coefficient estimates using scikit learn LinearRegression module. \n",
    "from sklearn.linear_model import LinearRegression\n",
    "\n",
    "reg = LinearRegression().fit(Xo, y)\n",
    "\n",
    "best_beta =  np.round(reg.coef_,2)\n",
    "best_beta_0 = np.round(reg.intercept_,2)\n",
    "\n",
    "print(f'The best values for the estimates are :', best_beta_0, best_beta.tolist())"
   ]
  },
  {
   "cell_type": "code",
   "execution_count": 38,
   "metadata": {
    "slideshow": {
     "slide_type": "slide"
    }
   },
   "outputs": [
    {
     "name": "stdout",
     "output_type": "stream",
     "text": [
      "The best values for the estimates are : -0.0 [0.1, 0.06, 0.01, 0.02, 0.07, 0.06, 0.04, 0.04]\n"
     ]
    }
   ],
   "source": [
    "#1. Find the coefficient estimates using Ridge regression for  𝑎𝑙𝑝ℎ𝑎=500 , using sci-kit learn.\n",
    "import pandas as pd\n",
    "df = pd.read_csv('data/Regression-3.csv', delimiter =',')\n",
    "\n",
    "Xo = df.iloc[:,0:-1].values\n",
    "y = df.iloc[:,-1].values\n",
    "\n",
    "from sklearn.linear_model import Ridge\n",
    "regr = Ridge(alpha=500)\n",
    "regr.fit(Xo, y)\n",
    "best_beta =  np.round(regr.coef_,2)\n",
    "best_beta_0 = np.round(regr.intercept_,2)\n",
    "print(f'The best values for the estimates are :', best_beta_0, best_beta.tolist())"
   ]
  },
  {
   "cell_type": "code",
   "execution_count": 39,
   "metadata": {
    "slideshow": {
     "slide_type": "slide"
    }
   },
   "outputs": [
    {
     "name": "stdout",
     "output_type": "stream",
     "text": [
      "The best values for the estimates are : -0.0 [0.23, 0.0, 0.0, 0.0, 0.0, 0.0, 0.0, 0.0]\n"
     ]
    }
   ],
   "source": [
    "#2. Find the coefficient estimates using Lasso regression for  𝑎𝑙𝑝ℎ𝑎=0.5 , using sci-kit learn.\n",
    "from sklearn.linear_model import Lasso\n",
    "regl = Lasso(alpha=0.5)\n",
    "regl.fit(Xo, y)\n",
    "best_beta =  np.round(regl.coef_,2)\n",
    "best_beta_0 = np.round(regl.intercept_,2)\n",
    "print(f'The best values for the estimates are :', best_beta_0, best_beta.tolist())"
   ]
  },
  {
   "cell_type": "markdown",
   "metadata": {
    "slideshow": {
     "slide_type": "slide"
    }
   },
   "source": [
    "# Cross-validation for Parameter Selection\n",
    "> 📌 An idea to find best value of the hyper-parameters"
   ]
  },
  {
   "cell_type": "markdown",
   "metadata": {
    "slideshow": {
     "slide_type": "fragment"
    }
   },
   "source": [
    "**Train-Testing:**\n",
    "- Two data sets (training and testing) are available.\n",
    "- The idea is to build the model on training data, and test the model on testing data.  \n",
    "- The testing data is usually smaller dataset compared to the training data.\n",
    "- The aim is to test the model's __generalizability__.\n",
    "- Other variations: Training-testing-validation datasets.\n",
    " - to goal is to reduce the level of overfitting.\n",
    " - the training is done a little bit more rigorously. \n",
    " - validation set is for validating the model's accuracy before the actual test on testing data.\n",
    " \n",
    "**Cross-validation (CV):**\n",
    "- It is used when there is no predefined training/validation/testing data. \n",
    "- It is one of the pragmatic approaches for parameter selection.\n",
    "- The idea is to partition the data into training/validation/testing sets. \n",
    " - Holdout method\n",
    " - k-fold method\n",
    " - Leave-one-out method\n",
    "- The aim is to improve the model's __generalizability__.\n"
   ]
  },
  {
   "cell_type": "markdown",
   "metadata": {
    "slideshow": {
     "slide_type": "slide"
    }
   },
   "source": [
    "# Case Study\n",
    "> 📌 Let's test the power of linear regression"
   ]
  },
  {
   "cell_type": "markdown",
   "metadata": {
    "slideshow": {
     "slide_type": "slide"
    }
   },
   "source": [
    "## Case Study - 1\n",
    "\n",
    "**Data**:  \n",
    "Historical data of real estate prices per unit area are collected for a city. Following 6 input features are recorded over the time:  \n",
    "**X1**=the transaction date  \n",
    "**X2**=the house age (unit: year)  \n",
    "**X3**=the distance to the nearest MRT station (unit: meter)  \n",
    "**X4**=the number of nearby convenience stores (integer)  \n",
    "**X5**=the geographic coordinate, latitude. (unit: degree)  \n",
    "**X6**=the geographic coordinate, longitude. (unit: degree)  \n",
    "\n",
    "Values of the 6 input features for (one observation) is written in a row. Furthermore, the corresponding real estate price per unit area (output variable) values are stored under the column **Y** in the corresponding row. The data is given in Regression-4.csv file.\n",
    "\n",
    "**Hypothesis**:  \n",
    "Our underlying hypothesis is that the input variables are _linearly_ related with the output variable.  \n",
    "\n",
    "**Objective**:  \n",
    "The objective of this case study is to identify the input variables' relationship with the output variable. Specifically, conduct a regression analysis, and estimate the best coefficients that capture the underlying relationship.\n",
    "_Note: It is not necessary that all the input variables are related to the output variable._"
   ]
  },
  {
   "cell_type": "code",
   "execution_count": 40,
   "metadata": {
    "scrolled": false,
    "slideshow": {
     "slide_type": "slide"
    }
   },
   "outputs": [
    {
     "data": {
      "text/html": [
       "<div>\n",
       "<style scoped>\n",
       "    .dataframe tbody tr th:only-of-type {\n",
       "        vertical-align: middle;\n",
       "    }\n",
       "\n",
       "    .dataframe tbody tr th {\n",
       "        vertical-align: top;\n",
       "    }\n",
       "\n",
       "    .dataframe thead th {\n",
       "        text-align: right;\n",
       "    }\n",
       "</style>\n",
       "<table border=\"1\" class=\"dataframe\">\n",
       "  <thead>\n",
       "    <tr style=\"text-align: right;\">\n",
       "      <th></th>\n",
       "      <th>X1 transaction date</th>\n",
       "      <th>X2 house age</th>\n",
       "      <th>X3 distance to the nearest MRT station</th>\n",
       "      <th>X4 number of convenience stores</th>\n",
       "      <th>X5 latitude</th>\n",
       "      <th>X6 longitude</th>\n",
       "      <th>Y house price of unit area</th>\n",
       "    </tr>\n",
       "  </thead>\n",
       "  <tbody>\n",
       "    <tr>\n",
       "      <th>0</th>\n",
       "      <td>2012.917</td>\n",
       "      <td>32.0</td>\n",
       "      <td>84.87882</td>\n",
       "      <td>10</td>\n",
       "      <td>24.98298</td>\n",
       "      <td>121.54024</td>\n",
       "      <td>37.9</td>\n",
       "    </tr>\n",
       "    <tr>\n",
       "      <th>1</th>\n",
       "      <td>2012.917</td>\n",
       "      <td>19.5</td>\n",
       "      <td>306.59470</td>\n",
       "      <td>9</td>\n",
       "      <td>24.98034</td>\n",
       "      <td>121.53951</td>\n",
       "      <td>42.2</td>\n",
       "    </tr>\n",
       "    <tr>\n",
       "      <th>2</th>\n",
       "      <td>2013.583</td>\n",
       "      <td>13.3</td>\n",
       "      <td>561.98450</td>\n",
       "      <td>5</td>\n",
       "      <td>24.98746</td>\n",
       "      <td>121.54391</td>\n",
       "      <td>47.3</td>\n",
       "    </tr>\n",
       "    <tr>\n",
       "      <th>3</th>\n",
       "      <td>2013.500</td>\n",
       "      <td>13.3</td>\n",
       "      <td>561.98450</td>\n",
       "      <td>5</td>\n",
       "      <td>24.98746</td>\n",
       "      <td>121.54391</td>\n",
       "      <td>54.8</td>\n",
       "    </tr>\n",
       "    <tr>\n",
       "      <th>4</th>\n",
       "      <td>2012.833</td>\n",
       "      <td>5.0</td>\n",
       "      <td>390.56840</td>\n",
       "      <td>5</td>\n",
       "      <td>24.97937</td>\n",
       "      <td>121.54245</td>\n",
       "      <td>43.1</td>\n",
       "    </tr>\n",
       "  </tbody>\n",
       "</table>\n",
       "</div>"
      ],
      "text/plain": [
       "   X1 transaction date  X2 house age  X3 distance to the nearest MRT station  \\\n",
       "0             2012.917          32.0                                84.87882   \n",
       "1             2012.917          19.5                               306.59470   \n",
       "2             2013.583          13.3                               561.98450   \n",
       "3             2013.500          13.3                               561.98450   \n",
       "4             2012.833           5.0                               390.56840   \n",
       "\n",
       "   X4 number of convenience stores  X5 latitude  X6 longitude  \\\n",
       "0                               10     24.98298     121.54024   \n",
       "1                                9     24.98034     121.53951   \n",
       "2                                5     24.98746     121.54391   \n",
       "3                                5     24.98746     121.54391   \n",
       "4                                5     24.97937     121.54245   \n",
       "\n",
       "   Y house price of unit area  \n",
       "0                        37.9  \n",
       "1                        42.2  \n",
       "2                        47.3  \n",
       "3                        54.8  \n",
       "4                        43.1  "
      ]
     },
     "execution_count": 40,
     "metadata": {},
     "output_type": "execute_result"
    }
   ],
   "source": [
    "# Reading & describing the data \n",
    "import pandas as pd\n",
    "df = pd.read_csv('data/Regression-4.csv', delimiter = ',')\n",
    "df.head()"
   ]
  },
  {
   "cell_type": "code",
   "execution_count": 41,
   "metadata": {
    "slideshow": {
     "slide_type": "slide"
    }
   },
   "outputs": [],
   "source": [
    "# Generate Train - Test splits\n",
    "from sklearn.model_selection import train_test_split\n",
    "X = df.iloc[:,0:-1].values  # [ 1 , 2] [:, 1] [1, :] , [:, :-1]\n",
    "y = df.iloc[:, -1].values \n",
    "X_train, X_test, y_train, y_test = train_test_split(X, y, test_size=0.2, random_state=42)"
   ]
  },
  {
   "cell_type": "code",
   "execution_count": 42,
   "metadata": {
    "scrolled": false,
    "slideshow": {
     "slide_type": "slide"
    }
   },
   "outputs": [],
   "source": [
    "# Scaling the Train - Test splits\n",
    "import numpy as np\n",
    "from sklearn.preprocessing import StandardScaler\n",
    "scaler = StandardScaler()\n",
    "\n",
    "scaler.fit(np.c_[X_train,y_train])\n",
    "\n",
    "A_train = scaler.transform(np.c_[X_train,y_train])\n",
    "X_train = A_train[:,:-1]\n",
    "y_train = A_train[:,-1]\n",
    "\n",
    "A_test = scaler.transform(np.c_[X_test,y_test])\n",
    "X_test = A_test[:,:-1]\n",
    "y_test = A_test[:,-1]\n",
    "\n",
    "# print(A_train)"
   ]
  },
  {
   "cell_type": "code",
   "execution_count": 45,
   "metadata": {
    "slideshow": {
     "slide_type": "slide"
    }
   },
   "outputs": [
    {
     "ename": "ValueError",
     "evalue": "continuous is not supported",
     "output_type": "error",
     "traceback": [
      "\u001b[1;31m---------------------------------------------------------------------------\u001b[0m",
      "\u001b[1;31mValueError\u001b[0m                                Traceback (most recent call last)",
      "\u001b[1;32m~\\AppData\\Local\\Temp\\ipykernel_21348\\3701436511.py\u001b[0m in \u001b[0;36m<module>\u001b[1;34m\u001b[0m\n\u001b[0;32m      7\u001b[0m \u001b[0mreg1\u001b[0m\u001b[1;33m.\u001b[0m\u001b[0mfit\u001b[0m\u001b[1;33m(\u001b[0m\u001b[0mX_train\u001b[0m\u001b[1;33m,\u001b[0m \u001b[0my_train\u001b[0m\u001b[1;33m)\u001b[0m \u001b[1;31m# y = B0 + B1x\u001b[0m\u001b[1;33m\u001b[0m\u001b[1;33m\u001b[0m\u001b[0m\n\u001b[0;32m      8\u001b[0m \u001b[0my_pred1\u001b[0m \u001b[1;33m=\u001b[0m \u001b[0mreg1\u001b[0m\u001b[1;33m.\u001b[0m\u001b[0mpredict\u001b[0m\u001b[1;33m(\u001b[0m\u001b[0mX_test\u001b[0m\u001b[1;33m)\u001b[0m  \u001b[1;31m# y_pred = reg1.intercept + reg1.coef_* X_test\u001b[0m\u001b[1;33m\u001b[0m\u001b[1;33m\u001b[0m\u001b[0m\n\u001b[1;32m----> 9\u001b[1;33m \u001b[0mprint\u001b[0m\u001b[1;33m(\u001b[0m\u001b[1;34m'The MSE using OLS is:'\u001b[0m\u001b[1;33m,\u001b[0m \u001b[0maccuracy_score\u001b[0m\u001b[1;33m(\u001b[0m\u001b[0my_test\u001b[0m\u001b[1;33m,\u001b[0m \u001b[0my_pred1\u001b[0m\u001b[1;33m)\u001b[0m\u001b[1;33m)\u001b[0m\u001b[1;33m\u001b[0m\u001b[1;33m\u001b[0m\u001b[0m\n\u001b[0m\u001b[0;32m     10\u001b[0m \u001b[1;33m\u001b[0m\u001b[0m\n\u001b[0;32m     11\u001b[0m \u001b[1;33m\u001b[0m\u001b[0m\n",
      "\u001b[1;32mc:\\Users\\ebrahim.alwajih\\Anaconda3\\lib\\site-packages\\sklearn\\metrics\\_classification.py\u001b[0m in \u001b[0;36maccuracy_score\u001b[1;34m(y_true, y_pred, normalize, sample_weight)\u001b[0m\n\u001b[0;32m    209\u001b[0m \u001b[1;33m\u001b[0m\u001b[0m\n\u001b[0;32m    210\u001b[0m     \u001b[1;31m# Compute accuracy for each possible representation\u001b[0m\u001b[1;33m\u001b[0m\u001b[1;33m\u001b[0m\u001b[0m\n\u001b[1;32m--> 211\u001b[1;33m     \u001b[0my_type\u001b[0m\u001b[1;33m,\u001b[0m \u001b[0my_true\u001b[0m\u001b[1;33m,\u001b[0m \u001b[0my_pred\u001b[0m \u001b[1;33m=\u001b[0m \u001b[0m_check_targets\u001b[0m\u001b[1;33m(\u001b[0m\u001b[0my_true\u001b[0m\u001b[1;33m,\u001b[0m \u001b[0my_pred\u001b[0m\u001b[1;33m)\u001b[0m\u001b[1;33m\u001b[0m\u001b[1;33m\u001b[0m\u001b[0m\n\u001b[0m\u001b[0;32m    212\u001b[0m     \u001b[0mcheck_consistent_length\u001b[0m\u001b[1;33m(\u001b[0m\u001b[0my_true\u001b[0m\u001b[1;33m,\u001b[0m \u001b[0my_pred\u001b[0m\u001b[1;33m,\u001b[0m \u001b[0msample_weight\u001b[0m\u001b[1;33m)\u001b[0m\u001b[1;33m\u001b[0m\u001b[1;33m\u001b[0m\u001b[0m\n\u001b[0;32m    213\u001b[0m     \u001b[1;32mif\u001b[0m \u001b[0my_type\u001b[0m\u001b[1;33m.\u001b[0m\u001b[0mstartswith\u001b[0m\u001b[1;33m(\u001b[0m\u001b[1;34m\"multilabel\"\u001b[0m\u001b[1;33m)\u001b[0m\u001b[1;33m:\u001b[0m\u001b[1;33m\u001b[0m\u001b[1;33m\u001b[0m\u001b[0m\n",
      "\u001b[1;32mc:\\Users\\ebrahim.alwajih\\Anaconda3\\lib\\site-packages\\sklearn\\metrics\\_classification.py\u001b[0m in \u001b[0;36m_check_targets\u001b[1;34m(y_true, y_pred)\u001b[0m\n\u001b[0;32m    102\u001b[0m     \u001b[1;31m# No metrics support \"multiclass-multioutput\" format\u001b[0m\u001b[1;33m\u001b[0m\u001b[1;33m\u001b[0m\u001b[0m\n\u001b[0;32m    103\u001b[0m     \u001b[1;32mif\u001b[0m \u001b[0my_type\u001b[0m \u001b[1;32mnot\u001b[0m \u001b[1;32min\u001b[0m \u001b[1;33m[\u001b[0m\u001b[1;34m\"binary\"\u001b[0m\u001b[1;33m,\u001b[0m \u001b[1;34m\"multiclass\"\u001b[0m\u001b[1;33m,\u001b[0m \u001b[1;34m\"multilabel-indicator\"\u001b[0m\u001b[1;33m]\u001b[0m\u001b[1;33m:\u001b[0m\u001b[1;33m\u001b[0m\u001b[1;33m\u001b[0m\u001b[0m\n\u001b[1;32m--> 104\u001b[1;33m         \u001b[1;32mraise\u001b[0m \u001b[0mValueError\u001b[0m\u001b[1;33m(\u001b[0m\u001b[1;34m\"{0} is not supported\"\u001b[0m\u001b[1;33m.\u001b[0m\u001b[0mformat\u001b[0m\u001b[1;33m(\u001b[0m\u001b[0my_type\u001b[0m\u001b[1;33m)\u001b[0m\u001b[1;33m)\u001b[0m\u001b[1;33m\u001b[0m\u001b[1;33m\u001b[0m\u001b[0m\n\u001b[0m\u001b[0;32m    105\u001b[0m \u001b[1;33m\u001b[0m\u001b[0m\n\u001b[0;32m    106\u001b[0m     \u001b[1;32mif\u001b[0m \u001b[0my_type\u001b[0m \u001b[1;32min\u001b[0m \u001b[1;33m[\u001b[0m\u001b[1;34m\"binary\"\u001b[0m\u001b[1;33m,\u001b[0m \u001b[1;34m\"multiclass\"\u001b[0m\u001b[1;33m]\u001b[0m\u001b[1;33m:\u001b[0m\u001b[1;33m\u001b[0m\u001b[1;33m\u001b[0m\u001b[0m\n",
      "\u001b[1;31mValueError\u001b[0m: continuous is not supported"
     ]
    }
   ],
   "source": [
    "# Regression Analysis: Mean Squared Error Metric\n",
    "from sklearn.metrics import mean_squared_error, accuracy_score\n",
    "\n",
    "## OLS\n",
    "from sklearn.linear_model import LinearRegression\n",
    "reg1 = LinearRegression(fit_intercept=False)\n",
    "reg1.fit(X_train, y_train) # y = B0 + B1x\n",
    "y_pred1 = reg1.predict(X_test)  # y_pred = reg1.intercept + reg1.coef_* X_test  \n",
    "print('The MSE using OLS is:', accuracy_score(y_test, y_pred1))\n",
    "\n",
    "\n",
    "## Ridge\n",
    "from sklearn.linear_model import RidgeCV\n",
    "reg2 = RidgeCV(alphas=[0.001, 0.01, 0.1, 0, 10, 100, 1000], fit_intercept=False,cv=10)\n",
    "reg2.fit(X_train, y_train)\n",
    "y_pred2 = reg2.predict(X_test)\n",
    "print('The MSE using Ridge is:', mean_squared_error(y_test, y_pred2))\n",
    "\n",
    "\n",
    "## Lasso\n",
    "from sklearn.linear_model import LassoCV\n",
    "reg3 = LassoCV(alphas=[1e-3, 1e-2, 1e-1, 1e0, 1e1, 1e2, 1e3], \n",
    "               fit_intercept=False,cv=10, random_state=0)\n",
    "reg3.fit(X_train, y_train)\n",
    "y_pred3 = reg3.predict(X_test)\n",
    "print('The MSE using Lasso is:', mean_squared_error(y_test, y_pred3))\n",
    "\n",
    "#best_beta =  np.round(reg3.coef_,2)\n",
    "#best_beta_0 = np.round(reg3.intercept_,2)\n",
    "#print(f'The best values for the estimates are :', best_beta_0, best_beta.tolist())\n"
   ]
  },
  {
   "cell_type": "code",
   "execution_count": 44,
   "metadata": {
    "slideshow": {
     "slide_type": "slide"
    }
   },
   "outputs": [
    {
     "name": "stdout",
     "output_type": "stream",
     "text": [
      "The best penalty coefficient is: 0.01\n",
      "The best coefficient estimates are: [ 0.10041212 -0.21196036 -0.39057662  0.23027978  0.20494929 -0.        ]\n"
     ]
    }
   ],
   "source": [
    "## Details of the best estimates\n",
    "print('The best penalty coefficient is:', reg3.alpha_)\n",
    "print('The best coefficient estimates are:', reg3.coef_)\n"
   ]
  }
 ],
 "metadata": {
  "celltoolbar": "Slideshow",
  "hide_input": false,
  "kernelspec": {
   "display_name": "Python 3 (ipykernel)",
   "language": "python",
   "name": "python3"
  },
  "language_info": {
   "codemirror_mode": {
    "name": "ipython",
    "version": 3
   },
   "file_extension": ".py",
   "mimetype": "text/x-python",
   "name": "python",
   "nbconvert_exporter": "python",
   "pygments_lexer": "ipython3",
   "version": "3.9.13"
  },
  "toc": {
   "base_numbering": 1,
   "nav_menu": {},
   "number_sections": true,
   "sideBar": true,
   "skip_h1_title": false,
   "title_cell": "Table of Contents",
   "title_sidebar": "Contents",
   "toc_cell": true,
   "toc_position": {
    "height": "calc(100% - 180px)",
    "left": "10px",
    "top": "150px",
    "width": "165px"
   },
   "toc_section_display": true,
   "toc_window_display": false
  },
  "varInspector": {
   "cols": {
    "lenName": 16,
    "lenType": 16,
    "lenVar": 40
   },
   "kernels_config": {
    "python": {
     "delete_cmd_postfix": "",
     "delete_cmd_prefix": "del ",
     "library": "var_list.py",
     "varRefreshCmd": "print(var_dic_list())"
    },
    "r": {
     "delete_cmd_postfix": ") ",
     "delete_cmd_prefix": "rm(",
     "library": "var_list.r",
     "varRefreshCmd": "cat(var_dic_list()) "
    }
   },
   "types_to_exclude": [
    "module",
    "function",
    "builtin_function_or_method",
    "instance",
    "_Feature"
   ],
   "window_display": false
  }
 },
 "nbformat": 4,
 "nbformat_minor": 2
}
