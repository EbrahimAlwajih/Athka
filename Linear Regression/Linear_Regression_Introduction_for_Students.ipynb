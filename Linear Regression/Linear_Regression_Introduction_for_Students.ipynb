{
 "cells": [
  {
   "cell_type": "markdown",
   "id": "ed1ba3fb",
   "metadata": {},
   "source": [
    "# Introduction to Linear Regression for K-12 Students\n",
    "\n",
    "Linear regression is like a detective tool in math and science. It helps us find out how one thing (like how much you study) can affect another thing (like your grades). \n",
    "\n",
    "## Simple Linear Regression\n",
    "\n",
    "Think of it like drawing a straight line through some dots on a graph. Each dot is a piece of information. For example, the dots could show how many hours students study and what grades they get. The line tries to be as close as possible to all these dots and shows us a pattern.\n",
    "\n",
    "## Multiple Linear Regression\n",
    "\n",
    "Sometimes, we need to look at more than one thing. For example, not just how much you study, but also how much you sleep before a test. This time, instead of a line, we might think of a flat surface that fits over all our dots.\n",
    "\n",
    "## Why It's Useful\n",
    "\n",
    "Linear regression helps us make predictions. For instance, it can help teachers understand how different factors like sleep and study time can affect a student's grades.\n"
   ]
  },
  {
   "cell_type": "markdown",
   "id": "3281c50c",
   "metadata": {},
   "source": [
    "# Python Example 1: Predicting Grades Based on Study Hours\n",
    "\n",
    "```python\n",
    "\n",
    "```\n",
    "This code plots how grades increase with more study hours. The dots are actual grades, and the line is what our model predicts.\n"
   ]
  },
  {
   "cell_type": "code",
   "execution_count": 5,
   "id": "98c69c88",
   "metadata": {},
   "outputs": [
    {
     "data": {
      "text/plain": [
       "array([90., 95.])"
      ]
     },
     "execution_count": 5,
     "metadata": {},
     "output_type": "execute_result"
    }
   ],
   "source": [
    "import matplotlib.pyplot as plt\n",
    "from sklearn.linear_model import LinearRegression\n",
    "import numpy as np\n",
    "\n",
    "# Simple Linear Regression: Predicting Grades based on Study Hours\n",
    "study_hours = np.array([1, 2, 3, 4, 5, 6, 7, 8]).reshape(-1, 1)\n",
    "grades = np.array([50, 55, 60, 65, 70, 75, 80, 85])\n",
    "\n",
    "model = LinearRegression()\n",
    "model.fit(study_hours, grades)\n",
    "predicted_grades = model.predict(study_hours)\n",
    "\n",
    "plt.scatter(study_hours, grades, color='green', label='Actual Grades')\n",
    "plt.plot(study_hours, predicted_grades, color='orange', label='Predicted Line')\n",
    "plt.title('Study Hours vs Grades')\n",
    "plt.xlabel('Hours of Study')\n",
    "plt.ylabel('Grades')\n",
    "plt.legend()\n",
    "plt.show()\n",
    "#model.predict( np.array([20, 2.5]).reshape(-1, 1))"
   ]
  },
  {
   "cell_type": "markdown",
   "id": "bf65d938",
   "metadata": {},
   "source": [
    "# Python Example 2: Predicting Test Scores Based on Study and Sleep Hours\n",
    "\n",
    "```python\n",
    "\n",
    "```\n",
    "In this example, we predict test scores based on two factors: how much students study and how much they sleep. It shows that linear regression can consider multiple factors at once.\n"
   ]
  },
  {
   "cell_type": "code",
   "execution_count": 2,
   "id": "294eb0b1",
   "metadata": {},
   "outputs": [
    {
     "name": "stdout",
     "output_type": "stream",
     "text": [
      "(8, 2)\n",
      "Study: 2 hrs, Sleep: 6 hrs, Actual Score: 75, Predicted Score: 78.53\n",
      "Study: 3 hrs, Sleep: 7 hrs, Actual Score: 80, Predicted Score: 82.59\n",
      "Study: 4 hrs, Sleep: 5 hrs, Actual Score: 85, Predicted Score: 80.95\n",
      "Study: 5 hrs, Sleep: 8 hrs, Actual Score: 90, Predicted Score: 88.79\n",
      "Study: 6 hrs, Sleep: 7 hrs, Actual Score: 95, Predicted Score: 89.05\n",
      "Study: 7 hrs, Sleep: 7 hrs, Actual Score: 90, Predicted Score: 91.21\n",
      "Study: 8 hrs, Sleep: 8 hrs, Actual Score: 95, Predicted Score: 95.26\n",
      "Study: 9 hrs, Sleep: 6 hrs, Actual Score: 90, Predicted Score: 93.62\n"
     ]
    },
    {
     "data": {
      "text/plain": [
       "array([ 92.02586207, 103.36206897])"
      ]
     },
     "execution_count": 2,
     "metadata": {},
     "output_type": "execute_result"
    }
   ],
   "source": [
    "study_hours = np.array([2, 3, 4, 5, 6, 7, 8, 9])\n",
    "sleep_hours = np.array([6, 7, 5, 8, 7, 7, 8, 6])\n",
    "test_scores = np.array([75, 80, 85, 90, 95, 90, 95, 90])\n",
    "\n",
    "X = np.column_stack((study_hours, sleep_hours))\n",
    "print(X.shape)\n",
    "model = LinearRegression()\n",
    "model.fit(X, test_scores)\n",
    "predicted_scores = model.predict(X)\n",
    "\n",
    "for actual, predicted, study, sleep in zip(test_scores, predicted_scores, study_hours, sleep_hours):\n",
    "    print(f\"Study: {study} hrs, Sleep: {sleep} hrs, Actual Score: {actual}, Predicted Score: {round(predicted, 2)}\")\n",
    "\n",
    "model.predict( np.array([[6.5, 8],[10,10]]))"
   ]
  }
 ],
 "metadata": {
  "kernelspec": {
   "display_name": "base",
   "language": "python",
   "name": "python3"
  },
  "language_info": {
   "codemirror_mode": {
    "name": "ipython",
    "version": 3
   },
   "file_extension": ".py",
   "mimetype": "text/x-python",
   "name": "python",
   "nbconvert_exporter": "python",
   "pygments_lexer": "ipython3",
   "version": "3.9.13"
  }
 },
 "nbformat": 4,
 "nbformat_minor": 5
}
