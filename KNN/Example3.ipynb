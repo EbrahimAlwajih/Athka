{
 "cells": [
  {
   "cell_type": "markdown",
   "id": "3e9afcfe",
   "metadata": {},
   "source": [
    "\n",
    "# Simple KNN Classification Tutorial with Python"
   ]
  },
  {
   "cell_type": "markdown",
   "id": "5cff4975",
   "metadata": {},
   "source": [
    "## Step 1: Setup"
   ]
  },
  {
   "cell_type": "markdown",
   "id": "1768e5b7",
   "metadata": {},
   "source": [
    "Make sure you have Python's `scikit-learn` library for KNN. Install it using pip if you don't have it:"
   ]
  },
  {
   "cell_type": "markdown",
   "id": "aa5c4c3c",
   "metadata": {},
   "source": [
    "```python\n",
    "!pip install scikit-learn\n",
    "```"
   ]
  },
  {
   "cell_type": "code",
   "execution_count": 37,
   "id": "ef139ce9",
   "metadata": {},
   "outputs": [],
   "source": [
    "#pip install scikit-learn"
   ]
  },
  {
   "cell_type": "markdown",
   "id": "7a1f0c58",
   "metadata": {},
   "source": [
    "## Step 2: Import Libraries"
   ]
  },
  {
   "cell_type": "code",
   "execution_count": 38,
   "id": "7843aa3a",
   "metadata": {},
   "outputs": [],
   "source": [
    "from sklearn.datasets import make_classification\n",
    "from sklearn.model_selection import train_test_split\n",
    "from sklearn.neighbors import KNeighborsClassifier\n",
    "from sklearn.metrics import accuracy_score\n",
    "import matplotlib.pyplot as plt\n",
    "import numpy as np"
   ]
  },
  {
   "cell_type": "markdown",
   "id": "76afd37f",
   "metadata": {},
   "source": [
    "## Step 3: Create a Simple Dataset"
   ]
  },
  {
   "cell_type": "markdown",
   "id": "bc7ad272",
   "metadata": {},
   "source": [
    "Let's create a basic dataset. Imagine we're classifying animals into two groups based on their features."
   ]
  },
  {
   "cell_type": "code",
   "execution_count": 39,
   "id": "31ed77a2",
   "metadata": {},
   "outputs": [],
   "source": [
    "\n",
    "# Step 1: Create a synthetic dataset with 20 samples\n",
    "X, y = make_classification(n_samples=20, n_features=2, n_redundant=0, n_clusters_per_class=1, random_state=42)"
   ]
  },
  {
   "cell_type": "markdown",
   "id": "25294d5d",
   "metadata": {},
   "source": [
    "## Step 4: Split the Data"
   ]
  },
  {
   "cell_type": "markdown",
   "id": "204c4c54",
   "metadata": {},
   "source": [
    "Split the data into training and testing sets."
   ]
  },
  {
   "cell_type": "code",
   "execution_count": 40,
   "id": "f8325128",
   "metadata": {},
   "outputs": [],
   "source": [
    "# Step 2: Split the dataset into training and testing sets\n",
    "X_train, X_test, y_train, y_test = train_test_split(X, y, test_size=0.5, random_state=42)"
   ]
  },
  {
   "cell_type": "markdown",
   "id": "e3c31ee9",
   "metadata": {},
   "source": [
    "## Step 5: Create and Train the KNN Model"
   ]
  },
  {
   "cell_type": "markdown",
   "id": "12780a2b",
   "metadata": {},
   "source": [
    "Create a KNN model with `k=3`."
   ]
  },
  {
   "cell_type": "code",
   "execution_count": 41,
   "id": "1b45f31a",
   "metadata": {},
   "outputs": [
    {
     "data": {
      "text/plain": [
       "KNeighborsClassifier(n_neighbors=3)"
      ]
     },
     "execution_count": 41,
     "metadata": {},
     "output_type": "execute_result"
    }
   ],
   "source": [
    "# Step 3: Train the KNN model\n",
    "knn = KNeighborsClassifier(n_neighbors=3)\n",
    "knn.fit(X_train, y_train)"
   ]
  },
  {
   "cell_type": "markdown",
   "id": "3bace460",
   "metadata": {},
   "source": [
    "## Step 6: Make Predictions"
   ]
  },
  {
   "cell_type": "markdown",
   "id": "eb2b62ec",
   "metadata": {},
   "source": [
    "Make predictions on the test set."
   ]
  },
  {
   "cell_type": "code",
   "execution_count": 42,
   "id": "ed483eeb",
   "metadata": {},
   "outputs": [
    {
     "name": "stderr",
     "output_type": "stream",
     "text": [
      "c:\\Users\\ebrahim.alwajih\\Anaconda3\\lib\\site-packages\\sklearn\\neighbors\\_classification.py:228: FutureWarning: Unlike other reduction functions (e.g. `skew`, `kurtosis`), the default behavior of `mode` typically preserves the axis it acts along. In SciPy 1.11.0, this behavior will change: the default value of `keepdims` will become False, the `axis` over which the statistic is taken will be eliminated, and the value None will no longer be accepted. Set `keepdims` to True or False to avoid this warning.\n",
      "  mode, _ = stats.mode(_y[neigh_ind, k], axis=1)\n"
     ]
    }
   ],
   "source": [
    "# Step 4: Test the model\n",
    "y_pred = knn.predict(X_test)"
   ]
  },
  {
   "cell_type": "markdown",
   "id": "bc6c58ee",
   "metadata": {},
   "source": [
    "## Step 7: Evaluate the Model"
   ]
  },
  {
   "cell_type": "markdown",
   "id": "2c4fbe48",
   "metadata": {},
   "source": [
    "Evaluate the model using accuracy."
   ]
  },
  {
   "cell_type": "code",
   "execution_count": 43,
   "id": "6594c03d",
   "metadata": {},
   "outputs": [
    {
     "name": "stdout",
     "output_type": "stream",
     "text": [
      "Accuracy: 70.00%\n"
     ]
    }
   ],
   "source": [
    "accuracy = accuracy_score(y_test, y_pred)\n",
    "print(f\"Accuracy: {accuracy * 100:.2f}%\")"
   ]
  }
 ],
 "metadata": {
  "kernelspec": {
   "display_name": "base",
   "language": "python",
   "name": "python3"
  },
  "language_info": {
   "codemirror_mode": {
    "name": "ipython",
    "version": 3
   },
   "file_extension": ".py",
   "mimetype": "text/x-python",
   "name": "python",
   "nbconvert_exporter": "python",
   "pygments_lexer": "ipython3",
   "version": "3.9.13"
  }
 },
 "nbformat": 4,
 "nbformat_minor": 5
}
