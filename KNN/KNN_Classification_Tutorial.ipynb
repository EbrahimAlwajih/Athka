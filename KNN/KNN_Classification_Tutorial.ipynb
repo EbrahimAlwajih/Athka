{
 "cells": [
  {
   "cell_type": "markdown",
   "id": "b9f225e7",
   "metadata": {},
   "source": [
    "\n",
    "# KNN Classification Tutorial with Python"
   ]
  },
  {
   "cell_type": "markdown",
   "id": "3f03f16a",
   "metadata": {},
   "source": [
    "## Step 1: Setup"
   ]
  },
  {
   "cell_type": "markdown",
   "id": "496fbfe4",
   "metadata": {},
   "source": [
    "Ensure you have the necessary Python libraries. We'll use `scikit-learn` for KNN and `numpy` for data handling. Install them using pip if you don't have them:"
   ]
  },
  {
   "cell_type": "markdown",
   "id": "e14b0093",
   "metadata": {},
   "source": [
    "```python\n",
    "!pip install scikit-learn numpy\n",
    "```"
   ]
  },
  {
   "cell_type": "markdown",
   "id": "d85dd6a2",
   "metadata": {},
   "source": [
    "## Step 2: Import Libraries"
   ]
  },
  {
   "cell_type": "code",
   "execution_count": 1,
   "id": "b5c4eb84",
   "metadata": {},
   "outputs": [],
   "source": [
    "from sklearn.neighbors import KNeighborsClassifier\n",
    "from sklearn.model_selection import train_test_split\n",
    "from sklearn.datasets import load_iris\n",
    "from sklearn.metrics import accuracy_score"
   ]
  },
  {
   "cell_type": "markdown",
   "id": "bfe752df",
   "metadata": {},
   "source": [
    "## Step 3: Load the Dataset"
   ]
  },
  {
   "cell_type": "markdown",
   "id": "f58d594b",
   "metadata": {},
   "source": [
    "We will use the Iris dataset, a classic in machine learning. It contains measurements of iris flowers and their species."
   ]
  },
  {
   "cell_type": "code",
   "execution_count": 2,
   "id": "fd70d5a1",
   "metadata": {},
   "outputs": [
    {
     "data": {
      "text/plain": [
       "(150, 4)"
      ]
     },
     "execution_count": 2,
     "metadata": {},
     "output_type": "execute_result"
    }
   ],
   "source": [
    "iris = load_iris()\n",
    "X, y = iris.data, iris.target\n",
    "X.shape"
   ]
  },
  {
   "cell_type": "code",
   "execution_count": 3,
   "id": "aee11632",
   "metadata": {},
   "outputs": [
    {
     "name": "stdout",
     "output_type": "stream",
     "text": [
      "[[5.1 3.5 1.4 0.2]\n",
      " [4.9 3.  1.4 0.2]\n",
      " [4.7 3.2 1.3 0.2]\n",
      " [4.6 3.1 1.5 0.2]\n",
      " [5.  3.6 1.4 0.2]]\n"
     ]
    }
   ],
   "source": [
    "print(X[0:5,:])"
   ]
  },
  {
   "cell_type": "markdown",
   "id": "3752562b",
   "metadata": {},
   "source": [
    "## Step 4: Split the Data"
   ]
  },
  {
   "cell_type": "markdown",
   "id": "baa00b7b",
   "metadata": {},
   "source": [
    "Split our data into a training set and a test set."
   ]
  },
  {
   "cell_type": "code",
   "execution_count": 4,
   "id": "c96b6bdf",
   "metadata": {},
   "outputs": [],
   "source": [
    "X_train, X_test, y_train, y_test = train_test_split(X, y, test_size=0.2, random_state=42)\n"
   ]
  },
  {
   "cell_type": "markdown",
   "id": "b243f17a",
   "metadata": {},
   "source": [
    "## Step 5: Create and Train the KNN Model"
   ]
  },
  {
   "cell_type": "markdown",
   "id": "9690b473",
   "metadata": {},
   "source": [
    "Create our KNN model. Let's start with `k=3`."
   ]
  },
  {
   "cell_type": "code",
   "execution_count": 5,
   "id": "22805b0d",
   "metadata": {},
   "outputs": [
    {
     "data": {
      "text/plain": [
       "KNeighborsClassifier(n_neighbors=3)"
      ]
     },
     "execution_count": 5,
     "metadata": {},
     "output_type": "execute_result"
    }
   ],
   "source": [
    "k = 3\n",
    "knn = KNeighborsClassifier(n_neighbors=k)\n",
    "knn.fit(X_train, y_train)"
   ]
  },
  {
   "cell_type": "markdown",
   "id": "8cb74586",
   "metadata": {},
   "source": [
    "## Step 6: Make Predictions"
   ]
  },
  {
   "cell_type": "markdown",
   "id": "377405c0",
   "metadata": {},
   "source": [
    "Use our trained model to make predictions on our test set."
   ]
  },
  {
   "cell_type": "code",
   "execution_count": 6,
   "id": "0a754f38",
   "metadata": {},
   "outputs": [
    {
     "name": "stderr",
     "output_type": "stream",
     "text": [
      "c:\\Users\\ebrahim.alwajih\\Anaconda3\\lib\\site-packages\\sklearn\\neighbors\\_classification.py:228: FutureWarning: Unlike other reduction functions (e.g. `skew`, `kurtosis`), the default behavior of `mode` typically preserves the axis it acts along. In SciPy 1.11.0, this behavior will change: the default value of `keepdims` will become False, the `axis` over which the statistic is taken will be eliminated, and the value None will no longer be accepted. Set `keepdims` to True or False to avoid this warning.\n",
      "  mode, _ = stats.mode(_y[neigh_ind, k], axis=1)\n"
     ]
    },
    {
     "data": {
      "text/plain": [
       "array([1, 0, 2, 1, 1, 0, 1, 2, 1, 1, 2, 0, 0, 0, 0, 1, 2, 1, 1, 2, 0, 2,\n",
       "       0, 2, 2, 2, 2, 2, 0, 0])"
      ]
     },
     "execution_count": 6,
     "metadata": {},
     "output_type": "execute_result"
    }
   ],
   "source": [
    "predictions = knn.predict(X_test)\n",
    "predictions"
   ]
  },
  {
   "cell_type": "markdown",
   "id": "1cf4bd84",
   "metadata": {},
   "source": [
    "## Step 7: Evaluate the Model"
   ]
  },
  {
   "cell_type": "markdown",
   "id": "f95f0a02",
   "metadata": {},
   "source": [
    "Use accuracy as our evaluation metric — the fraction of correctly classified instances."
   ]
  },
  {
   "cell_type": "code",
   "execution_count": 7,
   "id": "287b3d16",
   "metadata": {},
   "outputs": [
    {
     "name": "stdout",
     "output_type": "stream",
     "text": [
      "Accuracy: 100.00%\n"
     ]
    }
   ],
   "source": [
    "accuracy = accuracy_score(y_test, predictions)\n",
    "print(f\"Accuracy: {accuracy * 100:.2f}%\")"
   ]
  },
  {
   "cell_type": "markdown",
   "id": "a4b8d775",
   "metadata": {},
   "source": [
    "## Conclusion"
   ]
  },
  {
   "cell_type": "markdown",
   "id": "df183c1a",
   "metadata": {},
   "source": [
    "You've built and evaluated your first KNN classification model! Experiment with different values of `k` and see how it affects the model's performance.\n"
   ]
  }
 ],
 "metadata": {
  "kernelspec": {
   "display_name": "base",
   "language": "python",
   "name": "python3"
  },
  "language_info": {
   "codemirror_mode": {
    "name": "ipython",
    "version": 3
   },
   "file_extension": ".py",
   "mimetype": "text/x-python",
   "name": "python",
   "nbconvert_exporter": "python",
   "pygments_lexer": "ipython3",
   "version": "3.9.13"
  }
 },
 "nbformat": 4,
 "nbformat_minor": 5
}
