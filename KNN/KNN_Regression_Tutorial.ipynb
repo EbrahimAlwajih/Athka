{
 "cells": [
  {
   "cell_type": "markdown",
   "id": "e790b503",
   "metadata": {},
   "source": [
    "\n",
    "# KNN Regression Tutorial with Python"
   ]
  },
  {
   "cell_type": "markdown",
   "id": "220f28fb",
   "metadata": {},
   "source": [
    "## Step 1: Setup"
   ]
  },
  {
   "cell_type": "markdown",
   "id": "08be8d88",
   "metadata": {},
   "source": [
    "First, ensure you have the necessary Python libraries. We'll use `scikit-learn` for KNN and `numpy` to handle data arrays. You can install them using pip if you don't have them already:"
   ]
  },
  {
   "cell_type": "markdown",
   "id": "89450683",
   "metadata": {},
   "source": [
    "```python\n",
    "!pip install scikit-learn numpy\n",
    "```"
   ]
  },
  {
   "cell_type": "markdown",
   "id": "d49ccd58",
   "metadata": {},
   "source": [
    "## Step 2: Import Libraries"
   ]
  },
  {
   "cell_type": "code",
   "execution_count": 7,
   "id": "099b2a74",
   "metadata": {},
   "outputs": [],
   "source": [
    "import numpy as np\n",
    "from sklearn.neighbors import KNeighborsRegressor\n",
    "from sklearn.model_selection import train_test_split\n",
    "from sklearn.metrics import mean_squared_error"
   ]
  },
  {
   "cell_type": "markdown",
   "id": "2396c2c3",
   "metadata": {},
   "source": [
    "## Step 3: Create a Dataset"
   ]
  },
  {
   "cell_type": "markdown",
   "id": "2e2a6def",
   "metadata": {},
   "source": [
    "Let's create a simple dataset. Suppose we have house sizes and their corresponding prices."
   ]
  },
  {
   "cell_type": "code",
   "execution_count": 8,
   "id": "20ce3c19",
   "metadata": {},
   "outputs": [],
   "source": [
    "# House sizes in square feet\n",
    "house_sizes = np.array([750, 800, 850, 900, 950, 1000, 1050, 1100, 1150, 1200]).reshape(-1, 1)\n",
    "\n",
    "# House prices in thousand dollars\n",
    "house_prices = np.array([300, 320, 340, 360, 380, 400, 420, 440, 460, 480])"
   ]
  },
  {
   "cell_type": "markdown",
   "id": "3a4fd161",
   "metadata": {},
   "source": [
    "## Step 4: Split the Data"
   ]
  },
  {
   "cell_type": "markdown",
   "id": "a3a1a3c7",
   "metadata": {},
   "source": [
    "We'll split our data into a training set and a test set."
   ]
  },
  {
   "cell_type": "code",
   "execution_count": 9,
   "id": "4b1341ae",
   "metadata": {},
   "outputs": [],
   "source": [
    "X_train, X_test, y_train, y_test = train_test_split(house_sizes, house_prices, test_size=0.2, random_state=42)"
   ]
  },
  {
   "cell_type": "markdown",
   "id": "5a4f1e13",
   "metadata": {},
   "source": [
    "## Step 5: Create and Train the KNN Regression Model"
   ]
  },
  {
   "cell_type": "markdown",
   "id": "8ecf6338",
   "metadata": {},
   "source": [
    "We create our KNN model for regression. Let's use `k=3` for this example."
   ]
  },
  {
   "cell_type": "code",
   "execution_count": 10,
   "id": "023daeab",
   "metadata": {},
   "outputs": [
    {
     "data": {
      "text/plain": [
       "KNeighborsRegressor(n_neighbors=3)"
      ]
     },
     "execution_count": 10,
     "metadata": {},
     "output_type": "execute_result"
    }
   ],
   "source": [
    "k = 3\n",
    "knn_reg = KNeighborsRegressor(n_neighbors=k)\n",
    "knn_reg.fit(X_train, y_train)"
   ]
  },
  {
   "cell_type": "markdown",
   "id": "8f75ad8f",
   "metadata": {},
   "source": [
    "## Step 6: Make Predictions"
   ]
  },
  {
   "cell_type": "markdown",
   "id": "6d241f1b",
   "metadata": {},
   "source": [
    "Now, let's predict the prices of houses in our test set."
   ]
  },
  {
   "cell_type": "code",
   "execution_count": 11,
   "id": "9a79c6a5",
   "metadata": {},
   "outputs": [
    {
     "data": {
      "text/plain": [
       "array([446.66666667, 333.33333333])"
      ]
     },
     "execution_count": 11,
     "metadata": {},
     "output_type": "execute_result"
    }
   ],
   "source": [
    "predictions = knn_reg.predict(X_test)\n",
    "predictions"
   ]
  },
  {
   "cell_type": "markdown",
   "id": "ec9f3564",
   "metadata": {},
   "source": [
    "## Step 7: Evaluate the Model"
   ]
  },
  {
   "cell_type": "markdown",
   "id": "d8fae811",
   "metadata": {},
   "source": [
    "We use the mean squared error (MSE) as our evaluation metric."
   ]
  },
  {
   "cell_type": "code",
   "execution_count": 12,
   "id": "75f15bba",
   "metadata": {},
   "outputs": [
    {
     "name": "stdout",
     "output_type": "stream",
     "text": [
      "Mean Squared Error: 177.78\n"
     ]
    }
   ],
   "source": [
    "mse = mean_squared_error(y_test, predictions)\n",
    "print(f\"Mean Squared Error: {mse:.2f}\")"
   ]
  }
 ],
 "metadata": {
  "kernelspec": {
   "display_name": "base",
   "language": "python",
   "name": "python3"
  },
  "language_info": {
   "codemirror_mode": {
    "name": "ipython",
    "version": 3
   },
   "file_extension": ".py",
   "mimetype": "text/x-python",
   "name": "python",
   "nbconvert_exporter": "python",
   "pygments_lexer": "ipython3",
   "version": "3.9.13"
  }
 },
 "nbformat": 4,
 "nbformat_minor": 5
}
