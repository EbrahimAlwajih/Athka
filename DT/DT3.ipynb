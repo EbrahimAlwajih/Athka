{
 "cells": [
  {
   "cell_type": "markdown",
   "metadata": {},
   "source": [
    "A real-world example of classification using a decision tree involves predicting whether a bank's customer is likely to default on a loan. In this scenario, we can use a decision tree to classify customers into two classes: those who are likely to default (labelled as 'Default') and those who are not ('No Default')."
   ]
  },
  {
   "cell_type": "markdown",
   "metadata": {},
   "source": [
    "### Dataset<br>\n",
    "The dataset for this task typically includes various features about the customers and their financial behaviors, such as:<br>\n",
    "\n",
    "Age: Continuous variable representing the customer's age.<br>\n",
    "Income: Continuous variable representing the customer's annual income.<br>\n",
    "Loan Amount: Continuous variable representing the loan amount. <br>\n",
    "Credit History: Categorical variable (e.g., Good, Average, Poor). <br>\n",
    "Employment Status: Categorical variable (e.g., Employed, Unemployed, Self-Employed).<br>\n",
    "Marital Status: Categorical variable (e.g., Single, Married, Divorced). <br>\n",
    "Education Level: Categorical variable (e.g., High School, Bachelor’s, Master’s). <br>\n",
    "The target variable is:<br>\n",
    "\n",
    "Loan Default: Binary variable (Yes or No). <bre>"
   ]
  },
  {
   "cell_type": "code",
   "execution_count": 4,
   "metadata": {},
   "outputs": [
    {
     "name": "stdout",
     "output_type": "stream",
     "text": [
      "Accuracy: 1.00\n"
     ]
    }
   ],
   "source": [
    "from sklearn.datasets import load_iris\n",
    "from sklearn.model_selection import train_test_split\n",
    "from sklearn.tree import DecisionTreeClassifier\n",
    "from sklearn.metrics import accuracy_score\n",
    "import pandas as pd\n",
    "import matplotlib.pyplot as plt\n",
    "from sklearn.tree import plot_tree\n",
    "\n",
    "# Load Iris dataset\n",
    "iris = load_iris()\n",
    "X = iris.data\n",
    "y = iris.target\n",
    "\n",
    "# Split the dataset into a training set and a test set\n",
    "X_train, X_test, y_train, y_test = train_test_split(X, y, test_size=0.3, random_state=42)\n",
    "\n",
    "# Create a decision tree classifier\n",
    "clf = DecisionTreeClassifier(max_depth=5,max_features=2, min_samples_leaf=5)\n",
    "clf.fit(X_train, y_train)\n",
    "\n",
    "# Predict on test data\n",
    "y_pred = clf.predict(X_test)\n",
    "\n",
    "# Calculate accuracy\n",
    "accuracy = accuracy_score(y_test, y_pred)\n",
    "print(f'Accuracy: {accuracy:.2f}')\n",
    "\n",
    "\n"
   ]
  }
 ],
 "metadata": {
  "kernelspec": {
   "display_name": "base",
   "language": "python",
   "name": "python3"
  },
  "language_info": {
   "codemirror_mode": {
    "name": "ipython",
    "version": 3
   },
   "file_extension": ".py",
   "mimetype": "text/x-python",
   "name": "python",
   "nbconvert_exporter": "python",
   "pygments_lexer": "ipython3",
   "version": "3.9.12"
  }
 },
 "nbformat": 4,
 "nbformat_minor": 2
}
